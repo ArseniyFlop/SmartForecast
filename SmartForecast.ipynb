{
 "cells": [
  {
   "cell_type": "code",
   "execution_count": 1,
   "metadata": {},
   "outputs": [
    {
     "name": "stdout",
     "output_type": "stream",
     "text": [
      "Requirement already satisfied: neuralprophet in c:\\users\\arsen\\appdata\\local\\programs\\python\\python39\\lib\\site-packages (0.8.0)\n",
      "Requirement already satisfied: captum>=0.6.0 in c:\\users\\arsen\\appdata\\local\\programs\\python\\python39\\lib\\site-packages (from neuralprophet) (0.7.0)\n",
      "Requirement already satisfied: holidays>=0.41 in c:\\users\\arsen\\appdata\\local\\programs\\python\\python39\\lib\\site-packages (from neuralprophet) (0.44)\n",
      "Requirement already satisfied: matplotlib<4.0.0,>=3.5.3 in c:\\users\\arsen\\appdata\\local\\programs\\python\\python39\\lib\\site-packages (from neuralprophet) (3.8.3)\n",
      "Requirement already satisfied: nbformat<6.0.0,>=5.8.0 in c:\\users\\arsen\\appdata\\local\\programs\\python\\python39\\lib\\site-packages (from neuralprophet) (5.9.2)\n",
      "Requirement already satisfied: numpy<2.0.0,>=1.25.0 in c:\\users\\arsen\\appdata\\local\\programs\\python\\python39\\lib\\site-packages (from neuralprophet) (1.26.4)\n",
      "Requirement already satisfied: pandas<3.0.0,>=2.0.0 in c:\\users\\arsen\\appdata\\local\\programs\\python\\python39\\lib\\site-packages (from neuralprophet) (2.2.1)\n",
      "Requirement already satisfied: plotly<6.0.0,>=5.13.1 in c:\\users\\arsen\\appdata\\local\\programs\\python\\python39\\lib\\site-packages (from neuralprophet) (5.19.0)\n",
      "Requirement already satisfied: pytorch-lightning<2.0.0,>=1.9.4 in c:\\users\\arsen\\appdata\\local\\programs\\python\\python39\\lib\\site-packages (from neuralprophet) (1.9.5)\n",
      "Requirement already satisfied: tensorboard<3.0.0,>=2.11.2 in c:\\users\\arsen\\appdata\\local\\programs\\python\\python39\\lib\\site-packages (from neuralprophet) (2.16.2)\n",
      "Requirement already satisfied: torch<3.0.0,>=2.0.0 in c:\\users\\arsen\\appdata\\local\\programs\\python\\python39\\lib\\site-packages (from neuralprophet) (2.2.1)\n",
      "Requirement already satisfied: torchmetrics<2.0.0,>=1.0.0 in c:\\users\\arsen\\appdata\\local\\programs\\python\\python39\\lib\\site-packages (from neuralprophet) (1.3.1)\n",
      "Requirement already satisfied: typing-extensions<5.0.0,>=4.5.0 in c:\\users\\arsen\\appdata\\roaming\\python\\python39\\site-packages (from neuralprophet) (4.10.0)\n",
      "Requirement already satisfied: tqdm in c:\\users\\arsen\\appdata\\local\\programs\\python\\python39\\lib\\site-packages (from captum>=0.6.0->neuralprophet) (4.66.2)\n",
      "Requirement already satisfied: python-dateutil in c:\\users\\arsen\\appdata\\roaming\\python\\python39\\site-packages (from holidays>=0.41->neuralprophet) (2.9.0.post0)\n",
      "Requirement already satisfied: contourpy>=1.0.1 in c:\\users\\arsen\\appdata\\local\\programs\\python\\python39\\lib\\site-packages (from matplotlib<4.0.0,>=3.5.3->neuralprophet) (1.2.0)\n",
      "Requirement already satisfied: cycler>=0.10 in c:\\users\\arsen\\appdata\\local\\programs\\python\\python39\\lib\\site-packages (from matplotlib<4.0.0,>=3.5.3->neuralprophet) (0.12.1)\n",
      "Requirement already satisfied: fonttools>=4.22.0 in c:\\users\\arsen\\appdata\\local\\programs\\python\\python39\\lib\\site-packages (from matplotlib<4.0.0,>=3.5.3->neuralprophet) (4.49.0)\n",
      "Requirement already satisfied: kiwisolver>=1.3.1 in c:\\users\\arsen\\appdata\\local\\programs\\python\\python39\\lib\\site-packages (from matplotlib<4.0.0,>=3.5.3->neuralprophet) (1.4.5)\n",
      "Requirement already satisfied: packaging>=20.0 in c:\\users\\arsen\\appdata\\roaming\\python\\python39\\site-packages (from matplotlib<4.0.0,>=3.5.3->neuralprophet) (23.2)\n",
      "Requirement already satisfied: pillow>=8 in c:\\users\\arsen\\appdata\\local\\programs\\python\\python39\\lib\\site-packages (from matplotlib<4.0.0,>=3.5.3->neuralprophet) (10.2.0)\n",
      "Requirement already satisfied: pyparsing>=2.3.1 in c:\\users\\arsen\\appdata\\local\\programs\\python\\python39\\lib\\site-packages (from matplotlib<4.0.0,>=3.5.3->neuralprophet) (3.1.2)\n",
      "Requirement already satisfied: importlib-resources>=3.2.0 in c:\\users\\arsen\\appdata\\local\\programs\\python\\python39\\lib\\site-packages (from matplotlib<4.0.0,>=3.5.3->neuralprophet) (6.1.2)\n",
      "Requirement already satisfied: fastjsonschema in c:\\users\\arsen\\appdata\\local\\programs\\python\\python39\\lib\\site-packages (from nbformat<6.0.0,>=5.8.0->neuralprophet) (2.19.1)\n",
      "Requirement already satisfied: jsonschema>=2.6 in c:\\users\\arsen\\appdata\\local\\programs\\python\\python39\\lib\\site-packages (from nbformat<6.0.0,>=5.8.0->neuralprophet) (4.21.1)\n",
      "Requirement already satisfied: jupyter-core in c:\\users\\arsen\\appdata\\roaming\\python\\python39\\site-packages (from nbformat<6.0.0,>=5.8.0->neuralprophet) (5.7.1)\n",
      "Requirement already satisfied: traitlets>=5.1 in c:\\users\\arsen\\appdata\\roaming\\python\\python39\\site-packages (from nbformat<6.0.0,>=5.8.0->neuralprophet) (5.14.1)\n",
      "Requirement already satisfied: pytz>=2020.1 in c:\\users\\arsen\\appdata\\local\\programs\\python\\python39\\lib\\site-packages (from pandas<3.0.0,>=2.0.0->neuralprophet) (2024.1)\n",
      "Requirement already satisfied: tzdata>=2022.7 in c:\\users\\arsen\\appdata\\local\\programs\\python\\python39\\lib\\site-packages (from pandas<3.0.0,>=2.0.0->neuralprophet) (2024.1)\n",
      "Requirement already satisfied: tenacity>=6.2.0 in c:\\users\\arsen\\appdata\\local\\programs\\python\\python39\\lib\\site-packages (from plotly<6.0.0,>=5.13.1->neuralprophet) (8.2.3)\n",
      "Requirement already satisfied: PyYAML>=5.4 in c:\\users\\arsen\\appdata\\local\\programs\\python\\python39\\lib\\site-packages (from pytorch-lightning<2.0.0,>=1.9.4->neuralprophet) (6.0.1)\n",
      "Requirement already satisfied: fsspec>2021.06.0 in c:\\users\\arsen\\appdata\\local\\programs\\python\\python39\\lib\\site-packages (from fsspec[http]>2021.06.0->pytorch-lightning<2.0.0,>=1.9.4->neuralprophet) (2024.2.0)\n",
      "Requirement already satisfied: lightning-utilities>=0.6.0.post0 in c:\\users\\arsen\\appdata\\local\\programs\\python\\python39\\lib\\site-packages (from pytorch-lightning<2.0.0,>=1.9.4->neuralprophet) (0.10.1)\n",
      "Requirement already satisfied: absl-py>=0.4 in c:\\users\\arsen\\appdata\\local\\programs\\python\\python39\\lib\\site-packages (from tensorboard<3.0.0,>=2.11.2->neuralprophet) (2.1.0)\n",
      "Requirement already satisfied: grpcio>=1.48.2 in c:\\users\\arsen\\appdata\\local\\programs\\python\\python39\\lib\\site-packages (from tensorboard<3.0.0,>=2.11.2->neuralprophet) (1.62.0)\n",
      "Requirement already satisfied: markdown>=2.6.8 in c:\\users\\arsen\\appdata\\local\\programs\\python\\python39\\lib\\site-packages (from tensorboard<3.0.0,>=2.11.2->neuralprophet) (3.5.2)\n",
      "Requirement already satisfied: protobuf!=4.24.0,>=3.19.6 in c:\\users\\arsen\\appdata\\local\\programs\\python\\python39\\lib\\site-packages (from tensorboard<3.0.0,>=2.11.2->neuralprophet) (4.25.3)\n",
      "Requirement already satisfied: setuptools>=41.0.0 in c:\\users\\arsen\\appdata\\local\\programs\\python\\python39\\lib\\site-packages (from tensorboard<3.0.0,>=2.11.2->neuralprophet) (58.1.0)\n",
      "Requirement already satisfied: six>1.9 in c:\\users\\arsen\\appdata\\roaming\\python\\python39\\site-packages (from tensorboard<3.0.0,>=2.11.2->neuralprophet) (1.16.0)\n",
      "Requirement already satisfied: tensorboard-data-server<0.8.0,>=0.7.0 in c:\\users\\arsen\\appdata\\local\\programs\\python\\python39\\lib\\site-packages (from tensorboard<3.0.0,>=2.11.2->neuralprophet) (0.7.2)\n",
      "Requirement already satisfied: werkzeug>=1.0.1 in c:\\users\\arsen\\appdata\\local\\programs\\python\\python39\\lib\\site-packages (from tensorboard<3.0.0,>=2.11.2->neuralprophet) (3.0.1)\n",
      "Requirement already satisfied: filelock in c:\\users\\arsen\\appdata\\local\\programs\\python\\python39\\lib\\site-packages (from torch<3.0.0,>=2.0.0->neuralprophet) (3.13.1)\n",
      "Requirement already satisfied: sympy in c:\\users\\arsen\\appdata\\local\\programs\\python\\python39\\lib\\site-packages (from torch<3.0.0,>=2.0.0->neuralprophet) (1.12)\n",
      "Requirement already satisfied: networkx in c:\\users\\arsen\\appdata\\local\\programs\\python\\python39\\lib\\site-packages (from torch<3.0.0,>=2.0.0->neuralprophet) (3.2.1)\n",
      "Requirement already satisfied: jinja2 in c:\\users\\arsen\\appdata\\local\\programs\\python\\python39\\lib\\site-packages (from torch<3.0.0,>=2.0.0->neuralprophet) (3.1.3)\n",
      "Requirement already satisfied: aiohttp!=4.0.0a0,!=4.0.0a1 in c:\\users\\arsen\\appdata\\local\\programs\\python\\python39\\lib\\site-packages (from fsspec[http]>2021.06.0->pytorch-lightning<2.0.0,>=1.9.4->neuralprophet) (3.9.3)\n",
      "Requirement already satisfied: zipp>=3.1.0 in c:\\users\\arsen\\appdata\\roaming\\python\\python39\\site-packages (from importlib-resources>=3.2.0->matplotlib<4.0.0,>=3.5.3->neuralprophet) (3.17.0)\n",
      "Requirement already satisfied: attrs>=22.2.0 in c:\\users\\arsen\\appdata\\local\\programs\\python\\python39\\lib\\site-packages (from jsonschema>=2.6->nbformat<6.0.0,>=5.8.0->neuralprophet) (23.2.0)\n",
      "Requirement already satisfied: jsonschema-specifications>=2023.03.6 in c:\\users\\arsen\\appdata\\local\\programs\\python\\python39\\lib\\site-packages (from jsonschema>=2.6->nbformat<6.0.0,>=5.8.0->neuralprophet) (2023.12.1)\n",
      "Requirement already satisfied: referencing>=0.28.4 in c:\\users\\arsen\\appdata\\local\\programs\\python\\python39\\lib\\site-packages (from jsonschema>=2.6->nbformat<6.0.0,>=5.8.0->neuralprophet) (0.33.0)\n",
      "Requirement already satisfied: rpds-py>=0.7.1 in c:\\users\\arsen\\appdata\\local\\programs\\python\\python39\\lib\\site-packages (from jsonschema>=2.6->nbformat<6.0.0,>=5.8.0->neuralprophet) (0.18.0)\n",
      "Requirement already satisfied: importlib-metadata>=4.4 in c:\\users\\arsen\\appdata\\roaming\\python\\python39\\site-packages (from markdown>=2.6.8->tensorboard<3.0.0,>=2.11.2->neuralprophet) (7.0.1)\n",
      "Requirement already satisfied: colorama in c:\\users\\arsen\\appdata\\roaming\\python\\python39\\site-packages (from tqdm->captum>=0.6.0->neuralprophet) (0.4.6)\n",
      "Requirement already satisfied: MarkupSafe>=2.1.1 in c:\\users\\arsen\\appdata\\local\\programs\\python\\python39\\lib\\site-packages (from werkzeug>=1.0.1->tensorboard<3.0.0,>=2.11.2->neuralprophet) (2.1.5)\n",
      "Requirement already satisfied: platformdirs>=2.5 in c:\\users\\arsen\\appdata\\roaming\\python\\python39\\site-packages (from jupyter-core->nbformat<6.0.0,>=5.8.0->neuralprophet) (4.2.0)\n",
      "Requirement already satisfied: pywin32>=300 in c:\\users\\arsen\\appdata\\roaming\\python\\python39\\site-packages (from jupyter-core->nbformat<6.0.0,>=5.8.0->neuralprophet) (306)\n",
      "Requirement already satisfied: mpmath>=0.19 in c:\\users\\arsen\\appdata\\local\\programs\\python\\python39\\lib\\site-packages (from sympy->torch<3.0.0,>=2.0.0->neuralprophet) (1.3.0)\n",
      "Requirement already satisfied: aiosignal>=1.1.2 in c:\\users\\arsen\\appdata\\local\\programs\\python\\python39\\lib\\site-packages (from aiohttp!=4.0.0a0,!=4.0.0a1->fsspec[http]>2021.06.0->pytorch-lightning<2.0.0,>=1.9.4->neuralprophet) (1.3.1)\n",
      "Requirement already satisfied: frozenlist>=1.1.1 in c:\\users\\arsen\\appdata\\local\\programs\\python\\python39\\lib\\site-packages (from aiohttp!=4.0.0a0,!=4.0.0a1->fsspec[http]>2021.06.0->pytorch-lightning<2.0.0,>=1.9.4->neuralprophet) (1.4.1)\n",
      "Requirement already satisfied: multidict<7.0,>=4.5 in c:\\users\\arsen\\appdata\\local\\programs\\python\\python39\\lib\\site-packages (from aiohttp!=4.0.0a0,!=4.0.0a1->fsspec[http]>2021.06.0->pytorch-lightning<2.0.0,>=1.9.4->neuralprophet) (6.0.5)\n",
      "Requirement already satisfied: yarl<2.0,>=1.0 in c:\\users\\arsen\\appdata\\local\\programs\\python\\python39\\lib\\site-packages (from aiohttp!=4.0.0a0,!=4.0.0a1->fsspec[http]>2021.06.0->pytorch-lightning<2.0.0,>=1.9.4->neuralprophet) (1.9.4)\n",
      "Requirement already satisfied: async-timeout<5.0,>=4.0 in c:\\users\\arsen\\appdata\\local\\programs\\python\\python39\\lib\\site-packages (from aiohttp!=4.0.0a0,!=4.0.0a1->fsspec[http]>2021.06.0->pytorch-lightning<2.0.0,>=1.9.4->neuralprophet) (4.0.3)\n",
      "Requirement already satisfied: idna>=2.0 in c:\\users\\arsen\\appdata\\local\\programs\\python\\python39\\lib\\site-packages (from yarl<2.0,>=1.0->aiohttp!=4.0.0a0,!=4.0.0a1->fsspec[http]>2021.06.0->pytorch-lightning<2.0.0,>=1.9.4->neuralprophet) (3.6)\n",
      "Note: you may need to restart the kernel to use updated packages.\n"
     ]
    }
   ],
   "source": [
    "%pip install neuralprophet"
   ]
  },
  {
   "cell_type": "code",
   "execution_count": 2,
   "metadata": {},
   "outputs": [
    {
     "name": "stderr",
     "output_type": "stream",
     "text": [
      "c:\\Users\\arsen\\AppData\\Local\\Programs\\Python\\Python39\\lib\\site-packages\\tqdm\\auto.py:21: TqdmWarning: IProgress not found. Please update jupyter and ipywidgets. See https://ipywidgets.readthedocs.io/en/stable/user_install.html\n",
      "  from .autonotebook import tqdm as notebook_tqdm\n",
      "Importing plotly failed. Interactive plots will not work.\n",
      "Importing plotly failed. Interactive plots will not work.\n"
     ]
    }
   ],
   "source": [
    "from neuralprophet import NeuralProphet\n",
    "import yfinance as yf\n",
    "import pandas as pd\n",
    "import matplotlib.pyplot as plt"
   ]
  },
  {
   "cell_type": "code",
   "execution_count": 3,
   "metadata": {},
   "outputs": [
    {
     "name": "stderr",
     "output_type": "stream",
     "text": [
      "[*********************100%%**********************]  1 of 1 completed"
     ]
    },
    {
     "name": "stdout",
     "output_type": "stream",
     "text": [
      "               Open     High      Low    Close    Adj Close   Volume\n",
      "Date                                                                \n",
      "2010-06-29  10780.0  10820.0  10580.0  10640.0  7732.068848   744550\n",
      "2010-06-30  10460.0  10560.0  10360.0  10500.0  7630.328125  1183400\n",
      "2010-07-01  10460.0  10600.0  10280.0  10280.0  7470.458008  1314550\n",
      "2010-07-02  10380.0  10640.0  10380.0  10580.0  7688.468262  1848800\n",
      "2010-07-05  10480.0  10620.0  10340.0  10560.0  7673.930176   368750\n"
     ]
    },
    {
     "name": "stderr",
     "output_type": "stream",
     "text": [
      "\n"
     ]
    }
   ],
   "source": [
    "stock_symbol = '005935.KS'\n",
    "start = '2010-06-29'\n",
    "end = '2024-05-05'\n",
    "\n",
    "stock_data = yf.download(stock_symbol, start= start, end= end)\n",
    "print(stock_data.head())\n",
    "stock_data.to_csv('stock_data.csv')"
   ]
  },
  {
   "cell_type": "code",
   "execution_count": 4,
   "metadata": {},
   "outputs": [
    {
     "data": {
      "image/png": "[encoded data removed]",
      "text/plain": [
       "<Figure size 640x480 with 1 Axes>"
      ]
     },
     "metadata": {},
     "output_type": "display_data"
    }
   ],
   "source": [
    "stocks = pd.read_csv('stock_data.csv')\n",
    "stocks['Date'] = pd.to_datetime(stocks['Date'])\n",
    "stocks = stocks[['Date', 'Close']]\n",
    "stocks.columns = ['ds','y']\n",
    "\n",
    "plt.plot(stocks['ds'], stocks['y'], label = 'actual', c = 'g')\n",
    "plt.show()"
   ]
  },
  {
   "cell_type": "code",
   "execution_count": 5,
   "metadata": {},
   "outputs": [
    {
     "name": "stderr",
     "output_type": "stream",
     "text": [
      "WARNING - (NP.forecaster.fit) - When Global modeling with local normalization, metrics are displayed in normalized scale.\n",
      "WARNING - (py.warnings._showwarnmsg) - c:\\Users\\arsen\\AppData\\Local\\Programs\\Python\\Python39\\lib\\site-packages\\neuralprophet\\df_utils.py:1152: FutureWarning: Series.view is deprecated and will be removed in a future version. Use ``astype`` as an alternative to change the dtype.\n",
      "  converted_ds = pd.to_datetime(ds_col, utc=True).view(dtype=np.int64)\n",
      "\n",
      "INFO - (NP.df_utils._infer_frequency) - Major frequency B corresponds to 95.856% of the data.\n",
      "INFO - (NP.df_utils._infer_frequency) - Dataframe freq automatically defined as B\n",
      "INFO - (NP.config.init_data_params) - Setting normalization to global as only one dataframe provided for training.\n",
      "INFO - (NP.utils.set_auto_seasonalities) - Disabling daily seasonality. Run NeuralProphet with daily_seasonality=True to override this.\n",
      "INFO - (NP.config.set_auto_batch_epoch) - Auto-set batch_size to 64\n",
      "INFO - (NP.config.set_auto_batch_epoch) - Auto-set epochs to 80\n",
      "WARNING - (NP.config.set_lr_finder_args) - Learning rate finder: The number of batches (53) is too small than the required number                     for the learning rate finder (238). The results might not be optimal.\n",
      "Finding best initial lr: 100%|██████████| 238/238 [00:02<00:00, 98.63it/s] \n"
     ]
    },
    {
     "name": "stdout",
     "output_type": "stream",
     "text": [
      "Epoch 80: 100%|██████████| 80/80 [00:00<00:00, 135.34it/s, loss=0.0102, v_num=4, MAE=3.17e+3, RMSE=4.99e+3, Loss=0.010, RegLoss=0.000]    \n"
     ]
    },
    {
     "data": {
      "text/html": [
       "<div>\n",
       "<style scoped>\n",
       "    .dataframe tbody tr th:only-of-type {\n",
       "        vertical-align: middle;\n",
       "    }\n",
       "\n",
       "    .dataframe tbody tr th {\n",
       "        vertical-align: top;\n",
       "    }\n",
       "\n",
       "    .dataframe thead th {\n",
       "        text-align: right;\n",
       "    }\n",
       "</style>\n",
       "<table border=\"1\" class=\"dataframe\">\n",
       "  <thead>\n",
       "    <tr style=\"text-align: right;\">\n",
       "      <th></th>\n",
       "      <th>MAE</th>\n",
       "      <th>RMSE</th>\n",
       "      <th>Loss</th>\n",
       "      <th>RegLoss</th>\n",
       "      <th>epoch</th>\n",
       "    </tr>\n",
       "  </thead>\n",
       "  <tbody>\n",
       "    <tr>\n",
       "      <th>0</th>\n",
       "      <td>38645.710938</td>\n",
       "      <td>47382.757812</td>\n",
       "      <td>0.379903</td>\n",
       "      <td>0.0</td>\n",
       "      <td>0</td>\n",
       "    </tr>\n",
       "    <tr>\n",
       "      <th>1</th>\n",
       "      <td>26291.009766</td>\n",
       "      <td>32225.298828</td>\n",
       "      <td>0.226672</td>\n",
       "      <td>0.0</td>\n",
       "      <td>1</td>\n",
       "    </tr>\n",
       "    <tr>\n",
       "      <th>2</th>\n",
       "      <td>16744.333984</td>\n",
       "      <td>20481.427734</td>\n",
       "      <td>0.114638</td>\n",
       "      <td>0.0</td>\n",
       "      <td>2</td>\n",
       "    </tr>\n",
       "    <tr>\n",
       "      <th>3</th>\n",
       "      <td>10682.507812</td>\n",
       "      <td>12944.203125</td>\n",
       "      <td>0.052966</td>\n",
       "      <td>0.0</td>\n",
       "      <td>3</td>\n",
       "    </tr>\n",
       "    <tr>\n",
       "      <th>4</th>\n",
       "      <td>7666.963379</td>\n",
       "      <td>9381.434570</td>\n",
       "      <td>0.029871</td>\n",
       "      <td>0.0</td>\n",
       "      <td>4</td>\n",
       "    </tr>\n",
       "    <tr>\n",
       "      <th>...</th>\n",
       "      <td>...</td>\n",
       "      <td>...</td>\n",
       "      <td>...</td>\n",
       "      <td>...</td>\n",
       "      <td>...</td>\n",
       "    </tr>\n",
       "    <tr>\n",
       "      <th>75</th>\n",
       "      <td>3160.339844</td>\n",
       "      <td>5001.605957</td>\n",
       "      <td>0.010029</td>\n",
       "      <td>0.0</td>\n",
       "      <td>75</td>\n",
       "    </tr>\n",
       "    <tr>\n",
       "      <th>76</th>\n",
       "      <td>3161.146484</td>\n",
       "      <td>4974.082520</td>\n",
       "      <td>0.009997</td>\n",
       "      <td>0.0</td>\n",
       "      <td>76</td>\n",
       "    </tr>\n",
       "    <tr>\n",
       "      <th>77</th>\n",
       "      <td>3153.278320</td>\n",
       "      <td>4975.943848</td>\n",
       "      <td>0.010004</td>\n",
       "      <td>0.0</td>\n",
       "      <td>77</td>\n",
       "    </tr>\n",
       "    <tr>\n",
       "      <th>78</th>\n",
       "      <td>3166.195557</td>\n",
       "      <td>4977.133301</td>\n",
       "      <td>0.010027</td>\n",
       "      <td>0.0</td>\n",
       "      <td>78</td>\n",
       "    </tr>\n",
       "    <tr>\n",
       "      <th>79</th>\n",
       "      <td>3170.358887</td>\n",
       "      <td>4991.750488</td>\n",
       "      <td>0.010013</td>\n",
       "      <td>0.0</td>\n",
       "      <td>79</td>\n",
       "    </tr>\n",
       "  </tbody>\n",
       "</table>\n",
       "<p>80 rows × 5 columns</p>\n",
       "</div>"
      ],
      "text/plain": [
       "             MAE          RMSE      Loss  RegLoss  epoch\n",
       "0   38645.710938  47382.757812  0.379903      0.0      0\n",
       "1   26291.009766  32225.298828  0.226672      0.0      1\n",
       "2   16744.333984  20481.427734  0.114638      0.0      2\n",
       "3   10682.507812  12944.203125  0.052966      0.0      3\n",
       "4    7666.963379   9381.434570  0.029871      0.0      4\n",
       "..           ...           ...       ...      ...    ...\n",
       "75   3160.339844   5001.605957  0.010029      0.0     75\n",
       "76   3161.146484   4974.082520  0.009997      0.0     76\n",
       "77   3153.278320   4975.943848  0.010004      0.0     77\n",
       "78   3166.195557   4977.133301  0.010027      0.0     78\n",
       "79   3170.358887   4991.750488  0.010013      0.0     79\n",
       "\n",
       "[80 rows x 5 columns]"
      ]
     },
     "execution_count": 5,
     "metadata": {},
     "output_type": "execute_result"
    }
   ],
   "source": [
    "model = NeuralProphet()\n",
    "model.fit(stocks)\n"
   ]
  },
  {
   "cell_type": "code",
   "execution_count": 6,
   "metadata": {},
   "outputs": [
    {
     "name": "stderr",
     "output_type": "stream",
     "text": [
      "WARNING - (py.warnings._showwarnmsg) - c:\\Users\\arsen\\AppData\\Local\\Programs\\Python\\Python39\\lib\\site-packages\\neuralprophet\\df_utils.py:1152: FutureWarning: Series.view is deprecated and will be removed in a future version. Use ``astype`` as an alternative to change the dtype.\n",
      "  converted_ds = pd.to_datetime(ds_col, utc=True).view(dtype=np.int64)\n",
      "\n",
      "INFO - (NP.df_utils._infer_frequency) - Major frequency B corresponds to 95.856% of the data.\n",
      "WARNING - (py.warnings._showwarnmsg) - c:\\Users\\arsen\\AppData\\Local\\Programs\\Python\\Python39\\lib\\site-packages\\neuralprophet\\df_utils.py:1152: FutureWarning: Series.view is deprecated and will be removed in a future version. Use ``astype`` as an alternative to change the dtype.\n",
      "  converted_ds = pd.to_datetime(ds_col, utc=True).view(dtype=np.int64)\n",
      "\n",
      "WARNING - (py.warnings._showwarnmsg) - c:\\Users\\arsen\\AppData\\Local\\Programs\\Python\\Python39\\lib\\site-packages\\neuralprophet\\df_utils.py:1152: FutureWarning: Series.view is deprecated and will be removed in a future version. Use ``astype`` as an alternative to change the dtype.\n",
      "  converted_ds = pd.to_datetime(ds_col, utc=True).view(dtype=np.int64)\n",
      "\n",
      "INFO - (NP.df_utils._infer_frequency) - Defined frequency is equal to major frequency - B\n",
      "INFO - (NP.df_utils.return_df_in_original_format) - Returning df with no ID column\n"
     ]
    },
    {
     "name": "stderr",
     "output_type": "stream",
     "text": [
      "WARNING - (py.warnings._showwarnmsg) - c:\\Users\\arsen\\AppData\\Local\\Programs\\Python\\Python39\\lib\\site-packages\\neuralprophet\\df_utils.py:1152: FutureWarning: Series.view is deprecated and will be removed in a future version. Use ``astype`` as an alternative to change the dtype.\n",
      "  converted_ds = pd.to_datetime(ds_col, utc=True).view(dtype=np.int64)\n",
      "\n",
      "INFO - (NP.df_utils._infer_frequency) - Major frequency B corresponds to 99.667% of the data.\n",
      "WARNING - (py.warnings._showwarnmsg) - c:\\Users\\arsen\\AppData\\Local\\Programs\\Python\\Python39\\lib\\site-packages\\neuralprophet\\df_utils.py:1152: FutureWarning: Series.view is deprecated and will be removed in a future version. Use ``astype`` as an alternative to change the dtype.\n",
      "  converted_ds = pd.to_datetime(ds_col, utc=True).view(dtype=np.int64)\n",
      "\n",
      "WARNING - (py.warnings._showwarnmsg) - c:\\Users\\arsen\\AppData\\Local\\Programs\\Python\\Python39\\lib\\site-packages\\neuralprophet\\df_utils.py:1152: FutureWarning: Series.view is deprecated and will be removed in a future version. Use ``astype`` as an alternative to change the dtype.\n",
      "  converted_ds = pd.to_datetime(ds_col, utc=True).view(dtype=np.int64)\n",
      "\n",
      "INFO - (NP.df_utils._infer_frequency) - Defined frequency is equal to major frequency - B\n",
      "WARNING - (py.warnings._showwarnmsg) - c:\\Users\\arsen\\AppData\\Local\\Programs\\Python\\Python39\\lib\\site-packages\\neuralprophet\\df_utils.py:1152: FutureWarning: Series.view is deprecated and will be removed in a future version. Use ``astype`` as an alternative to change the dtype.\n",
      "  converted_ds = pd.to_datetime(ds_col, utc=True).view(dtype=np.int64)\n",
      "\n",
      "INFO - (NP.df_utils._infer_frequency) - Major frequency B corresponds to 99.667% of the data.\n",
      "WARNING - (py.warnings._showwarnmsg) - c:\\Users\\arsen\\AppData\\Local\\Programs\\Python\\Python39\\lib\\site-packages\\neuralprophet\\df_utils.py:1152: FutureWarning: Series.view is deprecated and will be removed in a future version. Use ``astype`` as an alternative to change the dtype.\n",
      "  converted_ds = pd.to_datetime(ds_col, utc=True).view(dtype=np.int64)\n",
      "\n",
      "WARNING - (py.warnings._showwarnmsg) - c:\\Users\\arsen\\AppData\\Local\\Programs\\Python\\Python39\\lib\\site-packages\\neuralprophet\\df_utils.py:1152: FutureWarning: Series.view is deprecated and will be removed in a future version. Use ``astype`` as an alternative to change the dtype.\n",
      "  converted_ds = pd.to_datetime(ds_col, utc=True).view(dtype=np.int64)\n",
      "\n",
      "INFO - (NP.df_utils._infer_frequency) - Defined frequency is equal to major frequency - B\n"
     ]
    },
    {
     "name": "stdout",
     "output_type": "stream",
     "text": [
      "Predicting DataLoader 0: 100%|██████████| 1/1 [00:00<00:00, 125.27it/s]"
     ]
    },
    {
     "name": "stderr",
     "output_type": "stream",
     "text": [
      "INFO - (NP.df_utils.return_df_in_original_format) - Returning df with no ID column\n",
      "WARNING - (py.warnings._showwarnmsg) - c:\\Users\\arsen\\AppData\\Local\\Programs\\Python\\Python39\\lib\\site-packages\\neuralprophet\\df_utils.py:1152: FutureWarning: Series.view is deprecated and will be removed in a future version. Use ``astype`` as an alternative to change the dtype.\n",
      "  converted_ds = pd.to_datetime(ds_col, utc=True).view(dtype=np.int64)\n",
      "\n",
      "INFO - (NP.df_utils._infer_frequency) - Major frequency B corresponds to 95.856% of the data.\n",
      "WARNING - (py.warnings._showwarnmsg) - c:\\Users\\arsen\\AppData\\Local\\Programs\\Python\\Python39\\lib\\site-packages\\neuralprophet\\df_utils.py:1152: FutureWarning: Series.view is deprecated and will be removed in a future version. Use ``astype`` as an alternative to change the dtype.\n",
      "  converted_ds = pd.to_datetime(ds_col, utc=True).view(dtype=np.int64)\n",
      "\n",
      "WARNING - (py.warnings._showwarnmsg) - c:\\Users\\arsen\\AppData\\Local\\Programs\\Python\\Python39\\lib\\site-packages\\neuralprophet\\df_utils.py:1152: FutureWarning: Series.view is deprecated and will be removed in a future version. Use ``astype`` as an alternative to change the dtype.\n",
      "  converted_ds = pd.to_datetime(ds_col, utc=True).view(dtype=np.int64)\n",
      "\n",
      "INFO - (NP.df_utils._infer_frequency) - Defined frequency is equal to major frequency - B\n",
      "WARNING - (py.warnings._showwarnmsg) - c:\\Users\\arsen\\AppData\\Local\\Programs\\Python\\Python39\\lib\\site-packages\\neuralprophet\\df_utils.py:1152: FutureWarning: Series.view is deprecated and will be removed in a future version. Use ``astype`` as an alternative to change the dtype.\n",
      "  converted_ds = pd.to_datetime(ds_col, utc=True).view(dtype=np.int64)\n",
      "\n",
      "INFO - (NP.df_utils._infer_frequency) - Major frequency B corresponds to 95.856% of the data.\n",
      "WARNING - (py.warnings._showwarnmsg) - c:\\Users\\arsen\\AppData\\Local\\Programs\\Python\\Python39\\lib\\site-packages\\neuralprophet\\df_utils.py:1152: FutureWarning: Series.view is deprecated and will be removed in a future version. Use ``astype`` as an alternative to change the dtype.\n",
      "  converted_ds = pd.to_datetime(ds_col, utc=True).view(dtype=np.int64)\n",
      "\n",
      "WARNING - (py.warnings._showwarnmsg) - c:\\Users\\arsen\\AppData\\Local\\Programs\\Python\\Python39\\lib\\site-packages\\neuralprophet\\df_utils.py:1152: FutureWarning: Series.view is deprecated and will be removed in a future version. Use ``astype`` as an alternative to change the dtype.\n",
      "  converted_ds = pd.to_datetime(ds_col, utc=True).view(dtype=np.int64)\n",
      "\n",
      "INFO - (NP.df_utils._infer_frequency) - Defined frequency is equal to major frequency - B\n"
     ]
    },
    {
     "name": "stdout",
     "output_type": "stream",
     "text": [
      "\n",
      "Predicting DataLoader 0: 100%|██████████| 4/4 [00:00<00:00, 71.41it/s]"
     ]
    },
    {
     "name": "stderr",
     "output_type": "stream",
     "text": [
      "INFO - (NP.df_utils.return_df_in_original_format) - Returning df with no ID column\n"
     ]
    },
    {
     "name": "stdout",
     "output_type": "stream",
     "text": [
      "\n"
     ]
    },
    {
     "data": {
      "image/png": "[encoded data removed]",
      "text/plain": [
       "<Figure size 640x480 with 1 Axes>"
      ]
     },
     "metadata": {},
     "output_type": "display_data"
    }
   ],
   "source": [
    "future = model.make_future_dataframe(stocks,periods=300)\n",
    "\n",
    "forecast = model.predict(future)\n",
    "actual_prediction = model.predict(stocks)\n",
    "\n",
    "plt.plot(actual_prediction['ds'], actual_prediction['yhat1'], label= \"prediction_Actual\", c = 'r')\n",
    "plt.plot(forecast['ds'], forecast['yhat1'], label = 'future_orediction', c = 'b')\n",
    "plt.plot(stocks['ds'], stocks['y'], label = 'actual', c = 'g')\n",
    "plt.legend()\n",
    "plt.show()"
   ]
  },
  {
   "cell_type": "code",
   "execution_count": 7,
   "metadata": {},
   "outputs": [
    {
     "name": "stderr",
     "output_type": "stream",
     "text": [
      "ERROR - (NP.plotly.plot_components) - plotly-resampler is not installed. Please install it to use the resampler.\n",
      "WARNING - (py.warnings._showwarnmsg) - c:\\Users\\arsen\\AppData\\Local\\Programs\\Python\\Python39\\lib\\site-packages\\neuralprophet\\plot_forecast_plotly.py:283: FutureWarning: Downcasting object dtype arrays on .fillna, .ffill, .bfill is deprecated and will change in a future version. Call result.infer_objects(copy=False) instead. To opt-in to the future behavior, set `pd.set_option('future.no_silent_downcasting', True)`\n",
      "  fcst = fcst.fillna(value=np.nan)\n",
      "\n",
      "WARNING - (py.warnings._showwarnmsg) - c:\\Users\\arsen\\AppData\\Local\\Programs\\Python\\Python39\\lib\\site-packages\\neuralprophet\\plot_forecast_plotly.py:410: FutureWarning:\n",
      "\n",
      "The behavior of DatetimeProperties.to_pydatetime is deprecated, in a future version this will return a Series containing python datetime objects instead of an ndarray. To retain the old behavior, call `np.array` on the result\n",
      "\n",
      "\n"
     ]
    },
    {
     "data": {
      "application/vnd.plotly.v1+json": {
       "config": {
        "plotlyServerURL": "https://plot.ly"
       },
       "data": [
        {
         "line": {
          "color": "#2d92ff",
          "width": 2
         },
         "mode": "lines",
         "name": "Trend",
         "showlegend": false,
         "type": "scatter",
         "x": [
          "2024-03-14T00:00:00",
          "2024-03-15T00:00:00",
          "2024-03-18T00:00:00",
          "2024-03-19T00:00:00",
          "2024-03-20T00:00:00",
          "2024-03-21T00:00:00",
          "2024-03-22T00:00:00",
          "2024-03-25T00:00:00",
          "2024-03-26T00:00:00",
          "2024-03-27T00:00:00",
          "2024-03-28T00:00:00",
          "2024-03-29T00:00:00",
          "2024-04-01T00:00:00",
          "2024-04-02T00:00:00",
          "2024-04-03T00:00:00",
          "2024-04-04T00:00:00",
          "2024-04-05T00:00:00",
          "2024-04-08T00:00:00",
          "2024-04-09T00:00:00",
          "2024-04-10T00:00:00",
          "2024-04-11T00:00:00",
          "2024-04-12T00:00:00",
          "2024-04-15T00:00:00",
          "2024-04-16T00:00:00",
          "2024-04-17T00:00:00",
          "2024-04-18T00:00:00",
          "2024-04-19T00:00:00",
          "2024-04-22T00:00:00",
          "2024-04-23T00:00:00",
          "2024-04-24T00:00:00",
          "2024-04-25T00:00:00",
          "2024-04-26T00:00:00",
          "2024-04-29T00:00:00",
          "2024-04-30T00:00:00",
          "2024-05-01T00:00:00",
          "2024-05-02T00:00:00",
          "2024-05-03T00:00:00",
          "2024-05-06T00:00:00",
          "2024-05-07T00:00:00",
          "2024-05-08T00:00:00",
          "2024-05-09T00:00:00",
          "2024-05-10T00:00:00",
          "2024-05-13T00:00:00",
          "2024-05-14T00:00:00",
          "2024-05-15T00:00:00",
          "2024-05-16T00:00:00",
          "2024-05-17T00:00:00",
          "2024-05-20T00:00:00",
          "2024-05-21T00:00:00",
          "2024-05-22T00:00:00",
          "2024-05-23T00:00:00",
          "2024-05-24T00:00:00",
          "2024-05-27T00:00:00",
          "2024-05-28T00:00:00",
          "2024-05-29T00:00:00",
          "2024-05-30T00:00:00",
          "2024-05-31T00:00:00",
          "2024-06-03T00:00:00",
          "2024-06-04T00:00:00",
          "2024-06-05T00:00:00",
          "2024-06-06T00:00:00",
          "2024-06-07T00:00:00",
          "2024-06-10T00:00:00",
          "2024-06-11T00:00:00",
          "2024-06-12T00:00:00",
          "2024-06-13T00:00:00",
          "2024-06-14T00:00:00",
          "2024-06-17T00:00:00",
          "2024-06-18T00:00:00",
          "2024-06-19T00:00:00",
          "2024-06-20T00:00:00",
          "2024-06-21T00:00:00",
          "2024-06-24T00:00:00",
          "2024-06-25T00:00:00",
          "2024-06-26T00:00:00",
          "2024-06-27T00:00:00",
          "2024-06-28T00:00:00",
          "2024-07-01T00:00:00",
          "2024-07-02T00:00:00",
          "2024-07-03T00:00:00",
          "2024-07-04T00:00:00",
          "2024-07-05T00:00:00",
          "2024-07-08T00:00:00",
          "2024-07-09T00:00:00",
          "2024-07-10T00:00:00",
          "2024-07-11T00:00:00",
          "2024-07-12T00:00:00",
          "2024-07-15T00:00:00",
          "2024-07-16T00:00:00",
          "2024-07-17T00:00:00",
          "2024-07-18T00:00:00",
          "2024-07-19T00:00:00",
          "2024-07-22T00:00:00",
          "2024-07-23T00:00:00",
          "2024-07-24T00:00:00",
          "2024-07-25T00:00:00",
          "2024-07-26T00:00:00",
          "2024-07-29T00:00:00",
          "2024-07-30T00:00:00",
          "2024-07-31T00:00:00",
          "2024-08-01T00:00:00",
          "2024-08-02T00:00:00",
          "2024-08-05T00:00:00",
          "2024-08-06T00:00:00",
          "2024-08-07T00:00:00",
          "2024-08-08T00:00:00",
          "2024-08-09T00:00:00",
          "2024-08-12T00:00:00",
          "2024-08-13T00:00:00",
          "2024-08-14T00:00:00",
          "2024-08-15T00:00:00",
          "2024-08-16T00:00:00",
          "2024-08-19T00:00:00",
          "2024-08-20T00:00:00",
          "2024-08-21T00:00:00",
          "2024-08-22T00:00:00",
          "2024-08-23T00:00:00",
          "2024-08-26T00:00:00",
          "2024-08-27T00:00:00",
          "2024-08-28T00:00:00",
          "2024-08-29T00:00:00",
          "2024-08-30T00:00:00",
          "2024-09-02T00:00:00",
          "2024-09-03T00:00:00",
          "2024-09-04T00:00:00",
          "2024-09-05T00:00:00",
          "2024-09-06T00:00:00",
          "2024-09-09T00:00:00",
          "2024-09-10T00:00:00",
          "2024-09-11T00:00:00",
          "2024-09-12T00:00:00",
          "2024-09-13T00:00:00",
          "2024-09-16T00:00:00",
          "2024-09-17T00:00:00",
          "2024-09-18T00:00:00",
          "2024-09-19T00:00:00",
          "2024-09-20T00:00:00",
          "2024-09-23T00:00:00",
          "2024-09-24T00:00:00",
          "2024-09-25T00:00:00",
          "2024-09-26T00:00:00",
          "2024-09-27T00:00:00",
          "2024-09-30T00:00:00",
          "2024-10-01T00:00:00",
          "2024-10-02T00:00:00",
          "2024-10-03T00:00:00",
          "2024-10-04T00:00:00",
          "2024-10-07T00:00:00",
          "2024-10-08T00:00:00",
          "2024-10-09T00:00:00",
          "2024-10-10T00:00:00",
          "2024-10-11T00:00:00",
          "2024-10-14T00:00:00",
          "2024-10-15T00:00:00",
          "2024-10-16T00:00:00",
          "2024-10-17T00:00:00",
          "2024-10-18T00:00:00",
          "2024-10-21T00:00:00",
          "2024-10-22T00:00:00",
          "2024-10-23T00:00:00",
          "2024-10-24T00:00:00",
          "2024-10-25T00:00:00",
          "2024-10-28T00:00:00",
          "2024-10-29T00:00:00",
          "2024-10-30T00:00:00",
          "2024-10-31T00:00:00",
          "2024-11-01T00:00:00",
          "2024-11-04T00:00:00",
          "2024-11-05T00:00:00",
          "2024-11-06T00:00:00",
          "2024-11-07T00:00:00",
          "2024-11-08T00:00:00",
          "2024-11-11T00:00:00",
          "2024-11-12T00:00:00",
          "2024-11-13T00:00:00",
          "2024-11-14T00:00:00",
          "2024-11-15T00:00:00",
          "2024-11-18T00:00:00",
          "2024-11-19T00:00:00",
          "2024-11-20T00:00:00",
          "2024-11-21T00:00:00",
          "2024-11-22T00:00:00",
          "2024-11-25T00:00:00",
          "2024-11-26T00:00:00",
          "2024-11-27T00:00:00",
          "2024-11-28T00:00:00",
          "2024-11-29T00:00:00",
          "2024-12-02T00:00:00",
          "2024-12-03T00:00:00",
          "2024-12-04T00:00:00",
          "2024-12-05T00:00:00",
          "2024-12-06T00:00:00",
          "2024-12-09T00:00:00",
          "2024-12-10T00:00:00",
          "2024-12-11T00:00:00",
          "2024-12-12T00:00:00",
          "2024-12-13T00:00:00",
          "2024-12-16T00:00:00",
          "2024-12-17T00:00:00",
          "2024-12-18T00:00:00",
          "2024-12-19T00:00:00",
          "2024-12-20T00:00:00",
          "2024-12-23T00:00:00",
          "2024-12-24T00:00:00",
          "2024-12-25T00:00:00",
          "2024-12-26T00:00:00",
          "2024-12-27T00:00:00",
          "2024-12-30T00:00:00",
          "2024-12-31T00:00:00",
          "2025-01-01T00:00:00",
          "2025-01-02T00:00:00",
          "2025-01-03T00:00:00",
          "2025-01-06T00:00:00",
          "2025-01-07T00:00:00",
          "2025-01-08T00:00:00",
          "2025-01-09T00:00:00",
          "2025-01-10T00:00:00",
          "2025-01-13T00:00:00",
          "2025-01-14T00:00:00",
          "2025-01-15T00:00:00",
          "2025-01-16T00:00:00",
          "2025-01-17T00:00:00",
          "2025-01-20T00:00:00",
          "2025-01-21T00:00:00",
          "2025-01-22T00:00:00",
          "2025-01-23T00:00:00",
          "2025-01-24T00:00:00",
          "2025-01-27T00:00:00",
          "2025-01-28T00:00:00",
          "2025-01-29T00:00:00",
          "2025-01-30T00:00:00",
          "2025-01-31T00:00:00",
          "2025-02-03T00:00:00",
          "2025-02-04T00:00:00",
          "2025-02-05T00:00:00",
          "2025-02-06T00:00:00",
          "2025-02-07T00:00:00",
          "2025-02-10T00:00:00",
          "2025-02-11T00:00:00",
          "2025-02-12T00:00:00",
          "2025-02-13T00:00:00",
          "2025-02-14T00:00:00",
          "2025-02-17T00:00:00",
          "2025-02-18T00:00:00",
          "2025-02-19T00:00:00",
          "2025-02-20T00:00:00",
          "2025-02-21T00:00:00",
          "2025-02-24T00:00:00",
          "2025-02-25T00:00:00",
          "2025-02-26T00:00:00",
          "2025-02-27T00:00:00",
          "2025-02-28T00:00:00",
          "2025-03-03T00:00:00",
          "2025-03-04T00:00:00",
          "2025-03-05T00:00:00",
          "2025-03-06T00:00:00",
          "2025-03-07T00:00:00",
          "2025-03-10T00:00:00",
          "2025-03-11T00:00:00",
          "2025-03-12T00:00:00",
          "2025-03-13T00:00:00",
          "2025-03-14T00:00:00",
          "2025-03-17T00:00:00",
          "2025-03-18T00:00:00",
          "2025-03-19T00:00:00",
          "2025-03-20T00:00:00",
          "2025-03-21T00:00:00",
          "2025-03-24T00:00:00",
          "2025-03-25T00:00:00",
          "2025-03-26T00:00:00",
          "2025-03-27T00:00:00",
          "2025-03-28T00:00:00",
          "2025-03-31T00:00:00",
          "2025-04-01T00:00:00",
          "2025-04-02T00:00:00",
          "2025-04-03T00:00:00",
          "2025-04-04T00:00:00",
          "2025-04-07T00:00:00",
          "2025-04-08T00:00:00",
          "2025-04-09T00:00:00",
          "2025-04-10T00:00:00",
          "2025-04-11T00:00:00",
          "2025-04-14T00:00:00",
          "2025-04-15T00:00:00",
          "2025-04-16T00:00:00",
          "2025-04-17T00:00:00",
          "2025-04-18T00:00:00",
          "2025-04-21T00:00:00",
          "2025-04-22T00:00:00",
          "2025-04-23T00:00:00",
          "2025-04-24T00:00:00",
          "2025-04-25T00:00:00",
          "2025-04-28T00:00:00",
          "2025-04-29T00:00:00",
          "2025-04-30T00:00:00",
          "2025-05-01T00:00:00",
          "2025-05-02T00:00:00",
          "2025-05-05T00:00:00",
          "2025-05-06T00:00:00",
          "2025-05-07T00:00:00"
         ],
         "xaxis": "x",
         "y": [
          60761.42578125,
          60760.453125,
          60757.53125,
          60756.55859375,
          60755.5859375,
          60754.60546875,
          60753.6328125,
          60750.7109375,
          60749.73828125,
          60748.765625,
          60747.7890625,
          60746.81640625,
          60743.89453125,
          60742.921875,
          60741.94921875,
          60740.96875,
          60740,
          60737.07421875,
          60736.1015625,
          60735.1328125,
          60734.15234375,
          60733.1796875,
          60730.2578125,
          60729.28515625,
          60728.3125,
          60727.3359375,
          60726.36328125,
          60723.4375,
          60722.46875,
          60721.49609375,
          60720.515625,
          60719.54296875,
          60716.62109375,
          60715.6484375,
          60714.67578125,
          60713.69921875,
          60712.7265625,
          60709.8046875,
          60708.83203125,
          60707.859375,
          60706.87890625,
          60705.90625,
          60702.984375,
          60702.01171875,
          60701.04296875,
          60700.0703125,
          60699.08984375,
          60696.16796875,
          60695.1953125,
          60694.22265625,
          60693.25,
          60692.2734375,
          60689.34765625,
          60688.37890625,
          60687.40625,
          60686.43359375,
          60685.453125,
          60682.53125,
          60681.55859375,
          60680.5859375,
          60679.61328125,
          60678.63671875,
          60675.7109375,
          60674.7421875,
          60673.76953125,
          60672.796875,
          60671.81640625,
          60668.89453125,
          60667.921875,
          60666.94921875,
          60665.98046875,
          60665,
          60662.078125,
          60661.10546875,
          60660.1328125,
          60659.16015625,
          60658.18359375,
          60655.2578125,
          60654.28515625,
          60653.31640625,
          60652.34375,
          60651.36328125,
          60648.44140625,
          60647.46875,
          60646.49609375,
          60645.5234375,
          60644.546875,
          60641.62109375,
          60640.65234375,
          60639.6796875,
          60638.70703125,
          60637.7265625,
          60634.8046875,
          60633.83203125,
          60632.859375,
          60631.890625,
          60630.91015625,
          60627.98828125,
          60627.015625,
          60626.04296875,
          60625.0703125,
          60624.08984375,
          60621.16796875,
          60620.1953125,
          60619.22265625,
          60618.25390625,
          60617.2734375,
          60614.3515625,
          60613.37890625,
          60612.40625,
          60611.43359375,
          60610.45703125,
          60607.53125,
          60606.55859375,
          60605.58984375,
          60604.6171875,
          60603.63671875,
          60600.71484375,
          60599.7421875,
          60598.76953125,
          60597.796875,
          60596.8203125,
          60593.89453125,
          60592.92578125,
          60591.953125,
          60590.98046875,
          60590,
          60587.078125,
          60586.10546875,
          60585.1328125,
          60584.1640625,
          60583.18359375,
          60580.26171875,
          60579.2890625,
          60578.31640625,
          60577.34375,
          60576.36328125,
          60573.44140625,
          60572.46875,
          60571.5,
          60570.52734375,
          60569.546875,
          60566.625,
          60565.65234375,
          60564.6796875,
          60563.70703125,
          60562.73046875,
          60559.8046875,
          60558.83203125,
          60557.86328125,
          60556.890625,
          60555.91015625,
          60552.98828125,
          60552.015625,
          60551.04296875,
          60550.0703125,
          60549.09375,
          60546.16796875,
          60545.19921875,
          60544.2265625,
          60543.25390625,
          60542.2734375,
          60539.3515625,
          60538.37890625,
          60537.40625,
          60536.4375,
          60535.45703125,
          60532.53515625,
          60531.5625,
          60530.58984375,
          60529.609375,
          60528.640625,
          60525.71484375,
          60524.7421875,
          60523.7734375,
          60522.79296875,
          60521.8203125,
          60518.8984375,
          60517.92578125,
          60516.953125,
          60515.97265625,
          60515.00390625,
          60512.078125,
          60511.109375,
          60510.13671875,
          60509.15625,
          60508.18359375,
          60505.26171875,
          60504.2890625,
          60503.31640625,
          60502.33984375,
          60501.3671875,
          60498.4453125,
          60497.47265625,
          60496.5,
          60495.51953125,
          60494.546875,
          60491.625,
          60490.65234375,
          60489.6796875,
          60488.703125,
          60487.73046875,
          60484.80859375,
          60483.8359375,
          60482.86328125,
          60481.8828125,
          60480.9140625,
          60477.98828125,
          60477.015625,
          60476.046875,
          60475.06640625,
          60474.09375,
          60471.171875,
          60470.19921875,
          60469.2265625,
          60468.25,
          60467.27734375,
          60464.3515625,
          60463.3828125,
          60462.41015625,
          60461.4296875,
          60460.45703125,
          60457.53515625,
          60456.5625,
          60455.58984375,
          60454.61328125,
          60453.640625,
          60450.71875,
          60449.74609375,
          60448.7734375,
          60447.79296875,
          60446.8203125,
          60443.8984375,
          60442.92578125,
          60441.95703125,
          60440.9765625,
          60440.00390625,
          60437.08203125,
          60436.109375,
          60435.13671875,
          60434.15625,
          60433.1875,
          60430.26171875,
          60429.2890625,
          60428.3203125,
          60427.34765625,
          60426.3671875,
          60423.4453125,
          60422.47265625,
          60421.5,
          60420.52734375,
          60419.55078125,
          60416.625,
          60415.65625,
          60414.68359375,
          60413.7109375,
          60412.73046875,
          60409.80859375,
          60408.8359375,
          60407.86328125,
          60406.89453125,
          60405.9140625,
          60402.9921875,
          60402.01953125,
          60401.046875,
          60400.07421875,
          60399.09375,
          60396.171875,
          60395.19921875,
          60394.23046875,
          60393.2578125,
          60392.27734375,
          60389.35546875,
          60388.3828125,
          60387.41015625,
          60386.4375,
          60385.4609375,
          60382.53515625,
          60381.56640625,
          60380.59375,
          60379.62109375,
          60378.640625,
          60375.71875,
          60374.74609375,
          60373.7734375,
          60372.8046875,
          60371.82421875,
          60368.90234375,
          60367.9296875,
          60366.95703125,
          60365.984375,
          60365.00390625,
          60362.08203125,
          60361.109375,
          60360.13671875,
          60359.16796875,
          60358.1875,
          60355.265625,
          60354.29296875,
          60353.3203125
         ],
         "yaxis": "y"
        },
        {
         "line": {
          "color": "#2d92ff",
          "width": 2
         },
         "mode": "lines",
         "name": "yearly seasonality",
         "showlegend": false,
         "type": "scatter",
         "x": [
          "2024-03-14T00:00:00",
          "2024-03-15T00:00:00",
          "2024-03-18T00:00:00",
          "2024-03-19T00:00:00",
          "2024-03-20T00:00:00",
          "2024-03-21T00:00:00",
          "2024-03-22T00:00:00",
          "2024-03-25T00:00:00",
          "2024-03-26T00:00:00",
          "2024-03-27T00:00:00",
          "2024-03-28T00:00:00",
          "2024-03-29T00:00:00",
          "2024-04-01T00:00:00",
          "2024-04-02T00:00:00",
          "2024-04-03T00:00:00",
          "2024-04-04T00:00:00",
          "2024-04-05T00:00:00",
          "2024-04-08T00:00:00",
          "2024-04-09T00:00:00",
          "2024-04-10T00:00:00",
          "2024-04-11T00:00:00",
          "2024-04-12T00:00:00",
          "2024-04-15T00:00:00",
          "2024-04-16T00:00:00",
          "2024-04-17T00:00:00",
          "2024-04-18T00:00:00",
          "2024-04-19T00:00:00",
          "2024-04-22T00:00:00",
          "2024-04-23T00:00:00",
          "2024-04-24T00:00:00",
          "2024-04-25T00:00:00",
          "2024-04-26T00:00:00",
          "2024-04-29T00:00:00",
          "2024-04-30T00:00:00",
          "2024-05-01T00:00:00",
          "2024-05-02T00:00:00",
          "2024-05-03T00:00:00",
          "2024-05-06T00:00:00",
          "2024-05-07T00:00:00",
          "2024-05-08T00:00:00",
          "2024-05-09T00:00:00",
          "2024-05-10T00:00:00",
          "2024-05-13T00:00:00",
          "2024-05-14T00:00:00",
          "2024-05-15T00:00:00",
          "2024-05-16T00:00:00",
          "2024-05-17T00:00:00",
          "2024-05-20T00:00:00",
          "2024-05-21T00:00:00",
          "2024-05-22T00:00:00",
          "2024-05-23T00:00:00",
          "2024-05-24T00:00:00",
          "2024-05-27T00:00:00",
          "2024-05-28T00:00:00",
          "2024-05-29T00:00:00",
          "2024-05-30T00:00:00",
          "2024-05-31T00:00:00",
          "2024-06-03T00:00:00",
          "2024-06-04T00:00:00",
          "2024-06-05T00:00:00",
          "2024-06-06T00:00:00",
          "2024-06-07T00:00:00",
          "2024-06-10T00:00:00",
          "2024-06-11T00:00:00",
          "2024-06-12T00:00:00",
          "2024-06-13T00:00:00",
          "2024-06-14T00:00:00",
          "2024-06-17T00:00:00",
          "2024-06-18T00:00:00",
          "2024-06-19T00:00:00",
          "2024-06-20T00:00:00",
          "2024-06-21T00:00:00",
          "2024-06-24T00:00:00",
          "2024-06-25T00:00:00",
          "2024-06-26T00:00:00",
          "2024-06-27T00:00:00",
          "2024-06-28T00:00:00",
          "2024-07-01T00:00:00",
          "2024-07-02T00:00:00",
          "2024-07-03T00:00:00",
          "2024-07-04T00:00:00",
          "2024-07-05T00:00:00",
          "2024-07-08T00:00:00",
          "2024-07-09T00:00:00",
          "2024-07-10T00:00:00",
          "2024-07-11T00:00:00",
          "2024-07-12T00:00:00",
          "2024-07-15T00:00:00",
          "2024-07-16T00:00:00",
          "2024-07-17T00:00:00",
          "2024-07-18T00:00:00",
          "2024-07-19T00:00:00",
          "2024-07-22T00:00:00",
          "2024-07-23T00:00:00",
          "2024-07-24T00:00:00",
          "2024-07-25T00:00:00",
          "2024-07-26T00:00:00",
          "2024-07-29T00:00:00",
          "2024-07-30T00:00:00",
          "2024-07-31T00:00:00",
          "2024-08-01T00:00:00",
          "2024-08-02T00:00:00",
          "2024-08-05T00:00:00",
          "2024-08-06T00:00:00",
          "2024-08-07T00:00:00",
          "2024-08-08T00:00:00",
          "2024-08-09T00:00:00",
          "2024-08-12T00:00:00",
          "2024-08-13T00:00:00",
          "2024-08-14T00:00:00",
          "2024-08-15T00:00:00",
          "2024-08-16T00:00:00",
          "2024-08-19T00:00:00",
          "2024-08-20T00:00:00",
          "2024-08-21T00:00:00",
          "2024-08-22T00:00:00",
          "2024-08-23T00:00:00",
          "2024-08-26T00:00:00",
          "2024-08-27T00:00:00",
          "2024-08-28T00:00:00",
          "2024-08-29T00:00:00",
          "2024-08-30T00:00:00",
          "2024-09-02T00:00:00",
          "2024-09-03T00:00:00",
          "2024-09-04T00:00:00",
          "2024-09-05T00:00:00",
          "2024-09-06T00:00:00",
          "2024-09-09T00:00:00",
          "2024-09-10T00:00:00",
          "2024-09-11T00:00:00",
          "2024-09-12T00:00:00",
          "2024-09-13T00:00:00",
          "2024-09-16T00:00:00",
          "2024-09-17T00:00:00",
          "2024-09-18T00:00:00",
          "2024-09-19T00:00:00",
          "2024-09-20T00:00:00",
          "2024-09-23T00:00:00",
          "2024-09-24T00:00:00",
          "2024-09-25T00:00:00",
          "2024-09-26T00:00:00",
          "2024-09-27T00:00:00",
          "2024-09-30T00:00:00",
          "2024-10-01T00:00:00",
          "2024-10-02T00:00:00",
          "2024-10-03T00:00:00",
          "2024-10-04T00:00:00",
          "2024-10-07T00:00:00",
          "2024-10-08T00:00:00",
          "2024-10-09T00:00:00",
          "2024-10-10T00:00:00",
          "2024-10-11T00:00:00",
          "2024-10-14T00:00:00",
          "2024-10-15T00:00:00",
          "2024-10-16T00:00:00",
          "2024-10-17T00:00:00",
          "2024-10-18T00:00:00",
          "2024-10-21T00:00:00",
          "2024-10-22T00:00:00",
          "2024-10-23T00:00:00",
          "2024-10-24T00:00:00",
          "2024-10-25T00:00:00",
          "2024-10-28T00:00:00",
          "2024-10-29T00:00:00",
          "2024-10-30T00:00:00",
          "2024-10-31T00:00:00",
          "2024-11-01T00:00:00",
          "2024-11-04T00:00:00",
          "2024-11-05T00:00:00",
          "2024-11-06T00:00:00",
          "2024-11-07T00:00:00",
          "2024-11-08T00:00:00",
          "2024-11-11T00:00:00",
          "2024-11-12T00:00:00",
          "2024-11-13T00:00:00",
          "2024-11-14T00:00:00",
          "2024-11-15T00:00:00",
          "2024-11-18T00:00:00",
          "2024-11-19T00:00:00",
          "2024-11-20T00:00:00",
          "2024-11-21T00:00:00",
          "2024-11-22T00:00:00",
          "2024-11-25T00:00:00",
          "2024-11-26T00:00:00",
          "2024-11-27T00:00:00",
          "2024-11-28T00:00:00",
          "2024-11-29T00:00:00",
          "2024-12-02T00:00:00",
          "2024-12-03T00:00:00",
          "2024-12-04T00:00:00",
          "2024-12-05T00:00:00",
          "2024-12-06T00:00:00",
          "2024-12-09T00:00:00",
          "2024-12-10T00:00:00",
          "2024-12-11T00:00:00",
          "2024-12-12T00:00:00",
          "2024-12-13T00:00:00",
          "2024-12-16T00:00:00",
          "2024-12-17T00:00:00",
          "2024-12-18T00:00:00",
          "2024-12-19T00:00:00",
          "2024-12-20T00:00:00",
          "2024-12-23T00:00:00",
          "2024-12-24T00:00:00",
          "2024-12-25T00:00:00",
          "2024-12-26T00:00:00",
          "2024-12-27T00:00:00",
          "2024-12-30T00:00:00",
          "2024-12-31T00:00:00",
          "2025-01-01T00:00:00",
          "2025-01-02T00:00:00",
          "2025-01-03T00:00:00",
          "2025-01-06T00:00:00",
          "2025-01-07T00:00:00",
          "2025-01-08T00:00:00",
          "2025-01-09T00:00:00",
          "2025-01-10T00:00:00",
          "2025-01-13T00:00:00",
          "2025-01-14T00:00:00",
          "2025-01-15T00:00:00",
          "2025-01-16T00:00:00",
          "2025-01-17T00:00:00",
          "2025-01-20T00:00:00",
          "2025-01-21T00:00:00",
          "2025-01-22T00:00:00",
          "2025-01-23T00:00:00",
          "2025-01-24T00:00:00",
          "2025-01-27T00:00:00",
          "2025-01-28T00:00:00",
          "2025-01-29T00:00:00",
          "2025-01-30T00:00:00",
          "2025-01-31T00:00:00",
          "2025-02-03T00:00:00",
          "2025-02-04T00:00:00",
          "2025-02-05T00:00:00",
          "2025-02-06T00:00:00",
          "2025-02-07T00:00:00",
          "2025-02-10T00:00:00",
          "2025-02-11T00:00:00",
          "2025-02-12T00:00:00",
          "2025-02-13T00:00:00",
          "2025-02-14T00:00:00",
          "2025-02-17T00:00:00",
          "2025-02-18T00:00:00",
          "2025-02-19T00:00:00",
          "2025-02-20T00:00:00",
          "2025-02-21T00:00:00",
          "2025-02-24T00:00:00",
          "2025-02-25T00:00:00",
          "2025-02-26T00:00:00",
          "2025-02-27T00:00:00",
          "2025-02-28T00:00:00",
          "2025-03-03T00:00:00",
          "2025-03-04T00:00:00",
          "2025-03-05T00:00:00",
          "2025-03-06T00:00:00",
          "2025-03-07T00:00:00",
          "2025-03-10T00:00:00",
          "2025-03-11T00:00:00",
          "2025-03-12T00:00:00",
          "2025-03-13T00:00:00",
          "2025-03-14T00:00:00",
          "2025-03-17T00:00:00",
          "2025-03-18T00:00:00",
          "2025-03-19T00:00:00",
          "2025-03-20T00:00:00",
          "2025-03-21T00:00:00",
          "2025-03-24T00:00:00",
          "2025-03-25T00:00:00",
          "2025-03-26T00:00:00",
          "2025-03-27T00:00:00",
          "2025-03-28T00:00:00",
          "2025-03-31T00:00:00",
          "2025-04-01T00:00:00",
          "2025-04-02T00:00:00",
          "2025-04-03T00:00:00",
          "2025-04-04T00:00:00",
          "2025-04-07T00:00:00",
          "2025-04-08T00:00:00",
          "2025-04-09T00:00:00",
          "2025-04-10T00:00:00",
          "2025-04-11T00:00:00",
          "2025-04-14T00:00:00",
          "2025-04-15T00:00:00",
          "2025-04-16T00:00:00",
          "2025-04-17T00:00:00",
          "2025-04-18T00:00:00",
          "2025-04-21T00:00:00",
          "2025-04-22T00:00:00",
          "2025-04-23T00:00:00",
          "2025-04-24T00:00:00",
          "2025-04-25T00:00:00",
          "2025-04-28T00:00:00",
          "2025-04-29T00:00:00",
          "2025-04-30T00:00:00",
          "2025-05-01T00:00:00",
          "2025-05-02T00:00:00",
          "2025-05-05T00:00:00",
          "2025-05-06T00:00:00",
          "2025-05-07T00:00:00"
         ],
         "xaxis": "x2",
         "y": [
          432.5318908691406,
          413.9580383300781,
          373.0001220703125,
          363.8266296386719,
          356.68603515625,
          351.44732666015625,
          347.9427490234375,
          346.0562438964844,
          347.7865295410156,
          350.2474670410156,
          353.529052734375,
          357.2642822265625,
          369.8969421386719,
          374.0511779785156,
          377.9360656738281,
          381.40911865234375,
          384.332763671875,
          388.9836730957031,
          388.8391418457031,
          387.7308044433594,
          385.646240234375,
          382.5145568847656,
          366.7730407714844,
          359.4223327636719,
          351.057373046875,
          341.72442626953125,
          331.4524230957031,
          295.68017578125,
          282.3293762207031,
          268.40069580078125,
          253.98550415039062,
          239.15660095214844,
          193.16268920898438,
          177.617431640625,
          162.1407470703125,
          146.7686004638672,
          131.6182098388672,
          88.1518325805664,
          74.4775619506836,
          61.374855041503906,
          48.86933135986328,
          36.94034194946289,
          5.005152225494385,
          -4.311157703399658,
          -12.962584495544434,
          -20.934650421142578,
          -28.283523559570312,
          -46.7004508972168,
          -51.745052337646484,
          -56.31565475463867,
          -60.453121185302734,
          -64.20134735107422,
          -73.66381072998047,
          -76.40348815917969,
          -79.03815460205078,
          -81.56552124023438,
          -84.09010314941406,
          -92.06832885742188,
          -95.00586700439453,
          -98.10206604003906,
          -101.4549789428711,
          -105.04759216308594,
          -117.55924987792969,
          -122.35515594482422,
          -127.49856567382812,
          -132.97372436523438,
          -138.76747131347656,
          -158.03334045410156,
          -165.05763244628906,
          -172.34661865234375,
          -179.91455078125,
          -187.72523498535156,
          -212.40744018554688,
          -221.01609802246094,
          -229.76971435546875,
          -238.64312744140625,
          -247.6895294189453,
          -275.41595458984375,
          -284.8894348144531,
          -294.4655456542969,
          -304.15631103515625,
          -313.97802734375,
          -344.3232421875,
          -354.7892761230469,
          -365.48931884765625,
          -376.44390869140625,
          -387.6531982421875,
          -423.294921875,
          -435.9826354980469,
          -449.0784606933594,
          -462.66375732421875,
          -476.74810791015625,
          -522.4782104492188,
          -538.9838256835938,
          -556.0684204101562,
          -573.8719482421875,
          -592.3145141601562,
          -651.9569702148438,
          -673.2474365234375,
          -695.2266235351562,
          -717.8890991210938,
          -741.1480712890625,
          -814.6490478515625,
          -840.2651977539062,
          -866.3599853515625,
          -892.869384765625,
          -919.7000122070312,
          -1001.98193359375,
          -1029.8004150390625,
          -1057.67138671875,
          -1085.486083984375,
          -1113.321044921875,
          -1195.7337646484375,
          -1222.688232421875,
          -1249.2779541015625,
          -1275.404296875,
          -1301.10009765625,
          -1374.918212890625,
          -1398.285888671875,
          -1421.10888671875,
          -1443.13623046875,
          -1464.564697265625,
          -1524.467041015625,
          -1542.9771728515625,
          -1560.84765625,
          -1578.028076171875,
          -1594.5245361328125,
          -1640.132080078125,
          -1654.0970458984375,
          -1667.5328369140625,
          -1680.3994140625,
          -1692.82763671875,
          -1727.072998046875,
          -1737.5823974609375,
          -1747.709228515625,
          -1757.3819580078125,
          -1766.6796875,
          -1791.9757080078125,
          -1799.5501708984375,
          -1806.5882568359375,
          -1813.154052734375,
          -1819.153076171875,
          -1833.304931640625,
          -1836.526123046875,
          -1838.9442138671875,
          -1840.40576171875,
          -1840.840576171875,
          -1835.2596435546875,
          -1830.82958984375,
          -1824.937744140625,
          -1817.4718017578125,
          -1808.380126953125,
          -1770.4979248046875,
          -1753.96044921875,
          -1735.5059814453125,
          -1714.86376953125,
          -1692.1749267578125,
          -1610.6512451171875,
          -1578.9478759765625,
          -1544.972412109375,
          -1508.7462158203125,
          -1470.34033203125,
          -1341.9532470703125,
          -1294.98095703125,
          -1246.114013671875,
          -1195.366455078125,
          -1142.971435546875,
          -976.4409790039062,
          -918.4376220703125,
          -859.3013916015625,
          -799.376953125,
          -738.696533203125,
          -554.119384765625,
          -492.4070739746094,
          -430.6777038574219,
          -369.4732666015625,
          -308.673828125,
          -131.0056915283203,
          -73.88211822509766,
          -17.85740089416504,
          36.75959777832031,
          89.95155334472656,
          239.8959197998047,
          286.4574279785156,
          331.3401184082031,
          374.39593505859375,
          415.8091735839844,
          529.4824829101562,
          564.1240844726562,
          597.3157958984375,
          628.9841918945312,
          659.4119262695312,
          743.97900390625,
          770.4357299804688,
          796.2342529296875,
          821.4813842773438,
          846.4583740234375,
          920.88818359375,
          946.0789794921875,
          971.640869140625,
          997.8236694335938,
          1024.70849609375,
          1110.5513916015625,
          1141.2664794921875,
          1173.0531005859375,
          1206.097412109375,
          1240.3817138671875,
          1350.4605712890625,
          1389.6385498046875,
          1429.7867431640625,
          1471.0172119140625,
          1513.100830078125,
          1643.713623046875,
          1688.188232421875,
          1732.81396484375,
          1777.4287109375,
          1821.751220703125,
          1951.26123046875,
          1992.5406494140625,
          2032.4251708984375,
          2070.6923828125,
          2107.142333984375,
          2203.31201171875,
          2230.2275390625,
          2254.2392578125,
          2275.162109375,
          2292.850830078125,
          2324.882568359375,
          2328.16552734375,
          2327.616455078125,
          2323.18017578125,
          2314.798828125,
          2266.13525390625,
          2242.19140625,
          2214.4384765625,
          2183.125244140625,
          2148.22802734375,
          2024.0162353515625,
          1976.7359619140625,
          1926.7757568359375,
          1874.467529296875,
          1819.968017578125,
          1646.39404296875,
          1586.0792236328125,
          1524.8765869140625,
          1463.2396240234375,
          1401.2208251953125,
          1216.835205078125,
          1156.6282958984375,
          1097.513916015625,
          1039.7724609375,
          983.4721069335938,
          825.7843017578125,
          777.4987182617188,
          731.6310424804688,
          688.1806030273438,
          647.3362426757812,
          540.999755859375,
          511.0115051269531,
          483.8527526855469,
          459.3576354980469,
          437.54339599609375,
          387.54254150390625,
          375.5843505859375,
          365.9468688964844,
          358.3251647949219,
          352.6305236816406,
          345.4683532714844,
          345.816650390625,
          347.25927734375,
          349.5703430175781,
          352.6617126464844,
          364.5616455078125,
          368.8544616699219,
          373.0200500488281,
          376.9810791015625,
          380.5739440917969,
          387.8841247558594,
          388.86676025390625,
          388.9530029296875,
          388.10205078125,
          386.259765625,
          374.4916076660156,
          368.438232421875,
          361.34930419921875,
          353.2434387207031,
          344.1391296386719,
          311.4151306152344,
          298.9196472167969,
          285.724853515625,
          271.93292236328125,
          257.6324462890625,
          212.51992797851562,
          197.04833984375,
          181.50576782226562,
          166.00425720214844,
          150.59242248535156,
          105.80012512207031,
          91.6152114868164,
          77.8452377319336
         ],
         "yaxis": "y2"
        },
        {
         "line": {
          "color": "#2d92ff",
          "width": 2
         },
         "mode": "lines",
         "name": "weekly seasonality",
         "showlegend": false,
         "type": "scatter",
         "x": [
          "2024-03-14T00:00:00",
          "2024-03-15T00:00:00",
          "2024-03-18T00:00:00",
          "2024-03-19T00:00:00",
          "2024-03-20T00:00:00",
          "2024-03-21T00:00:00",
          "2024-03-22T00:00:00",
          "2024-03-25T00:00:00",
          "2024-03-26T00:00:00",
          "2024-03-27T00:00:00",
          "2024-03-28T00:00:00",
          "2024-03-29T00:00:00",
          "2024-04-01T00:00:00",
          "2024-04-02T00:00:00",
          "2024-04-03T00:00:00",
          "2024-04-04T00:00:00",
          "2024-04-05T00:00:00",
          "2024-04-08T00:00:00",
          "2024-04-09T00:00:00",
          "2024-04-10T00:00:00",
          "2024-04-11T00:00:00",
          "2024-04-12T00:00:00",
          "2024-04-15T00:00:00",
          "2024-04-16T00:00:00",
          "2024-04-17T00:00:00",
          "2024-04-18T00:00:00",
          "2024-04-19T00:00:00",
          "2024-04-22T00:00:00",
          "2024-04-23T00:00:00",
          "2024-04-24T00:00:00",
          "2024-04-25T00:00:00",
          "2024-04-26T00:00:00",
          "2024-04-29T00:00:00",
          "2024-04-30T00:00:00",
          "2024-05-01T00:00:00",
          "2024-05-02T00:00:00",
          "2024-05-03T00:00:00",
          "2024-05-06T00:00:00",
          "2024-05-07T00:00:00",
          "2024-05-08T00:00:00",
          "2024-05-09T00:00:00",
          "2024-05-10T00:00:00",
          "2024-05-13T00:00:00",
          "2024-05-14T00:00:00",
          "2024-05-15T00:00:00",
          "2024-05-16T00:00:00",
          "2024-05-17T00:00:00",
          "2024-05-20T00:00:00",
          "2024-05-21T00:00:00",
          "2024-05-22T00:00:00",
          "2024-05-23T00:00:00",
          "2024-05-24T00:00:00",
          "2024-05-27T00:00:00",
          "2024-05-28T00:00:00",
          "2024-05-29T00:00:00",
          "2024-05-30T00:00:00",
          "2024-05-31T00:00:00",
          "2024-06-03T00:00:00",
          "2024-06-04T00:00:00",
          "2024-06-05T00:00:00",
          "2024-06-06T00:00:00",
          "2024-06-07T00:00:00",
          "2024-06-10T00:00:00",
          "2024-06-11T00:00:00",
          "2024-06-12T00:00:00",
          "2024-06-13T00:00:00",
          "2024-06-14T00:00:00",
          "2024-06-17T00:00:00",
          "2024-06-18T00:00:00",
          "2024-06-19T00:00:00",
          "2024-06-20T00:00:00",
          "2024-06-21T00:00:00",
          "2024-06-24T00:00:00",
          "2024-06-25T00:00:00",
          "2024-06-26T00:00:00",
          "2024-06-27T00:00:00",
          "2024-06-28T00:00:00",
          "2024-07-01T00:00:00",
          "2024-07-02T00:00:00",
          "2024-07-03T00:00:00",
          "2024-07-04T00:00:00",
          "2024-07-05T00:00:00",
          "2024-07-08T00:00:00",
          "2024-07-09T00:00:00",
          "2024-07-10T00:00:00",
          "2024-07-11T00:00:00",
          "2024-07-12T00:00:00",
          "2024-07-15T00:00:00",
          "2024-07-16T00:00:00",
          "2024-07-17T00:00:00",
          "2024-07-18T00:00:00",
          "2024-07-19T00:00:00",
          "2024-07-22T00:00:00",
          "2024-07-23T00:00:00",
          "2024-07-24T00:00:00",
          "2024-07-25T00:00:00",
          "2024-07-26T00:00:00",
          "2024-07-29T00:00:00",
          "2024-07-30T00:00:00",
          "2024-07-31T00:00:00",
          "2024-08-01T00:00:00",
          "2024-08-02T00:00:00",
          "2024-08-05T00:00:00",
          "2024-08-06T00:00:00",
          "2024-08-07T00:00:00",
          "2024-08-08T00:00:00",
          "2024-08-09T00:00:00",
          "2024-08-12T00:00:00",
          "2024-08-13T00:00:00",
          "2024-08-14T00:00:00",
          "2024-08-15T00:00:00",
          "2024-08-16T00:00:00",
          "2024-08-19T00:00:00",
          "2024-08-20T00:00:00",
          "2024-08-21T00:00:00",
          "2024-08-22T00:00:00",
          "2024-08-23T00:00:00",
          "2024-08-26T00:00:00",
          "2024-08-27T00:00:00",
          "2024-08-28T00:00:00",
          "2024-08-29T00:00:00",
          "2024-08-30T00:00:00",
          "2024-09-02T00:00:00",
          "2024-09-03T00:00:00",
          "2024-09-04T00:00:00",
          "2024-09-05T00:00:00",
          "2024-09-06T00:00:00",
          "2024-09-09T00:00:00",
          "2024-09-10T00:00:00",
          "2024-09-11T00:00:00",
          "2024-09-12T00:00:00",
          "2024-09-13T00:00:00",
          "2024-09-16T00:00:00",
          "2024-09-17T00:00:00",
          "2024-09-18T00:00:00",
          "2024-09-19T00:00:00",
          "2024-09-20T00:00:00",
          "2024-09-23T00:00:00",
          "2024-09-24T00:00:00",
          "2024-09-25T00:00:00",
          "2024-09-26T00:00:00",
          "2024-09-27T00:00:00",
          "2024-09-30T00:00:00",
          "2024-10-01T00:00:00",
          "2024-10-02T00:00:00",
          "2024-10-03T00:00:00",
          "2024-10-04T00:00:00",
          "2024-10-07T00:00:00",
          "2024-10-08T00:00:00",
          "2024-10-09T00:00:00",
          "2024-10-10T00:00:00",
          "2024-10-11T00:00:00",
          "2024-10-14T00:00:00",
          "2024-10-15T00:00:00",
          "2024-10-16T00:00:00",
          "2024-10-17T00:00:00",
          "2024-10-18T00:00:00",
          "2024-10-21T00:00:00",
          "2024-10-22T00:00:00",
          "2024-10-23T00:00:00",
          "2024-10-24T00:00:00",
          "2024-10-25T00:00:00",
          "2024-10-28T00:00:00",
          "2024-10-29T00:00:00",
          "2024-10-30T00:00:00",
          "2024-10-31T00:00:00",
          "2024-11-01T00:00:00",
          "2024-11-04T00:00:00",
          "2024-11-05T00:00:00",
          "2024-11-06T00:00:00",
          "2024-11-07T00:00:00",
          "2024-11-08T00:00:00",
          "2024-11-11T00:00:00",
          "2024-11-12T00:00:00",
          "2024-11-13T00:00:00",
          "2024-11-14T00:00:00",
          "2024-11-15T00:00:00",
          "2024-11-18T00:00:00",
          "2024-11-19T00:00:00",
          "2024-11-20T00:00:00",
          "2024-11-21T00:00:00",
          "2024-11-22T00:00:00",
          "2024-11-25T00:00:00",
          "2024-11-26T00:00:00",
          "2024-11-27T00:00:00",
          "2024-11-28T00:00:00",
          "2024-11-29T00:00:00",
          "2024-12-02T00:00:00",
          "2024-12-03T00:00:00",
          "2024-12-04T00:00:00",
          "2024-12-05T00:00:00",
          "2024-12-06T00:00:00",
          "2024-12-09T00:00:00",
          "2024-12-10T00:00:00",
          "2024-12-11T00:00:00",
          "2024-12-12T00:00:00",
          "2024-12-13T00:00:00",
          "2024-12-16T00:00:00",
          "2024-12-17T00:00:00",
          "2024-12-18T00:00:00",
          "2024-12-19T00:00:00",
          "2024-12-20T00:00:00",
          "2024-12-23T00:00:00",
          "2024-12-24T00:00:00",
          "2024-12-25T00:00:00",
          "2024-12-26T00:00:00",
          "2024-12-27T00:00:00",
          "2024-12-30T00:00:00",
          "2024-12-31T00:00:00",
          "2025-01-01T00:00:00",
          "2025-01-02T00:00:00",
          "2025-01-03T00:00:00",
          "2025-01-06T00:00:00",
          "2025-01-07T00:00:00",
          "2025-01-08T00:00:00",
          "2025-01-09T00:00:00",
          "2025-01-10T00:00:00",
          "2025-01-13T00:00:00",
          "2025-01-14T00:00:00",
          "2025-01-15T00:00:00",
          "2025-01-16T00:00:00",
          "2025-01-17T00:00:00",
          "2025-01-20T00:00:00",
          "2025-01-21T00:00:00",
          "2025-01-22T00:00:00",
          "2025-01-23T00:00:00",
          "2025-01-24T00:00:00",
          "2025-01-27T00:00:00",
          "2025-01-28T00:00:00",
          "2025-01-29T00:00:00",
          "2025-01-30T00:00:00",
          "2025-01-31T00:00:00",
          "2025-02-03T00:00:00",
          "2025-02-04T00:00:00",
          "2025-02-05T00:00:00",
          "2025-02-06T00:00:00",
          "2025-02-07T00:00:00",
          "2025-02-10T00:00:00",
          "2025-02-11T00:00:00",
          "2025-02-12T00:00:00",
          "2025-02-13T00:00:00",
          "2025-02-14T00:00:00",
          "2025-02-17T00:00:00",
          "2025-02-18T00:00:00",
          "2025-02-19T00:00:00",
          "2025-02-20T00:00:00",
          "2025-02-21T00:00:00",
          "2025-02-24T00:00:00",
          "2025-02-25T00:00:00",
          "2025-02-26T00:00:00",
          "2025-02-27T00:00:00",
          "2025-02-28T00:00:00",
          "2025-03-03T00:00:00",
          "2025-03-04T00:00:00",
          "2025-03-05T00:00:00",
          "2025-03-06T00:00:00",
          "2025-03-07T00:00:00",
          "2025-03-10T00:00:00",
          "2025-03-11T00:00:00",
          "2025-03-12T00:00:00",
          "2025-03-13T00:00:00",
          "2025-03-14T00:00:00",
          "2025-03-17T00:00:00",
          "2025-03-18T00:00:00",
          "2025-03-19T00:00:00",
          "2025-03-20T00:00:00",
          "2025-03-21T00:00:00",
          "2025-03-24T00:00:00",
          "2025-03-25T00:00:00",
          "2025-03-26T00:00:00",
          "2025-03-27T00:00:00",
          "2025-03-28T00:00:00",
          "2025-03-31T00:00:00",
          "2025-04-01T00:00:00",
          "2025-04-02T00:00:00",
          "2025-04-03T00:00:00",
          "2025-04-04T00:00:00",
          "2025-04-07T00:00:00",
          "2025-04-08T00:00:00",
          "2025-04-09T00:00:00",
          "2025-04-10T00:00:00",
          "2025-04-11T00:00:00",
          "2025-04-14T00:00:00",
          "2025-04-15T00:00:00",
          "2025-04-16T00:00:00",
          "2025-04-17T00:00:00",
          "2025-04-18T00:00:00",
          "2025-04-21T00:00:00",
          "2025-04-22T00:00:00",
          "2025-04-23T00:00:00",
          "2025-04-24T00:00:00",
          "2025-04-25T00:00:00",
          "2025-04-28T00:00:00",
          "2025-04-29T00:00:00",
          "2025-04-30T00:00:00",
          "2025-05-01T00:00:00",
          "2025-05-02T00:00:00",
          "2025-05-05T00:00:00",
          "2025-05-06T00:00:00",
          "2025-05-07T00:00:00"
         ],
         "xaxis": "x3",
         "y": [
          -1711.759521484375,
          -1711.9722900390625,
          -1848.5499267578125,
          -1672.523193359375,
          -1845.0426025390625,
          -1746.4423828125,
          -1733.5047607421875,
          -1872.730224609375,
          -1665.8656005859375,
          -1805.928955078125,
          -1760.1776123046875,
          -1709.6016845703125,
          -1896.9681396484375,
          -1701.9608154296875,
          -1766.814697265625,
          -1747.9205322265625,
          -1731.135986328125,
          -1862.2694091796875,
          -1738.0301513671875,
          -1804.639892578125,
          -1714.7122802734375,
          -1752.614501953125,
          -1844.2449951171875,
          -1703.38720703125,
          -1842.4619140625,
          -1681.536376953125,
          -1683.2596435546875,
          -1868.422607421875,
          -1668.712646484375,
          -1803.3489990234375,
          -1763.13037109375,
          -1704.859375,
          -1892.6549072265625,
          -1704.8096923828125,
          -1764.2332763671875,
          -1750.8797607421875,
          -1726.4017333984375,
          -1908.4239501953125,
          -1740.876220703125,
          -1802.0592041015625,
          -1717.6658935546875,
          -1702.4871826171875,
          -1839.94384765625,
          -1706.2294921875,
          -1839.8824462890625,
          -1752.356201171875,
          -1724.0316162109375,
          -1864.113037109375,
          -1742.295166015625,
          -1800.77001953125,
          -1698.13818359375,
          -1745.520751953125,
          -1837.79052734375,
          -1707.65771484375,
          -1838.591064453125,
          -1685.958984375,
          -1721.663818359375,
          -1904.121826171875,
          -1672.98974609375,
          -1876.4112548828125,
          -1788.5645751953125,
          -1697.744140625,
          -1886.1817626953125,
          -1638.2919921875,
          -1760.3624267578125,
          -1755.3126220703125,
          -1719.2957763671875,
          -1809.38232421875,
          -1745.1375732421875,
          -1798.187744140625,
          -1701.08349609375,
          -1740.789794921875,
          -1833.490234375,
          -1710.4991455078125,
          -1836.012451171875,
          -1688.9080810546875,
          -1716.9266357421875,
          -1899.8197021484375,
          -1675.837646484375,
          -1796.8995361328125,
          -1723.570556640625,
          -1692.9993896484375,
          -1881.86767578125,
          -1711.923583984375,
          -1834.720703125,
          -1758.27099609375,
          -1714.5594482421875,
          -1855.4986572265625,
          -1677.26123046875,
          -1795.608642578125,
          -1704.0289306640625,
          -1690.6279296875,
          -1879.7105712890625,
          -1713.34716796875,
          -1833.431640625,
          -1759.748291015625,
          -1712.1883544921875,
          -1895.5185546875,
          -1749.400634765625,
          -1794.3189697265625,
          -1726.5233154296875,
          -1733.6932373046875,
          -1827.03857421875,
          -1714.7706298828125,
          -1787.4556884765625,
          -1693.33251953125,
          -1755.140380859375,
          -1851.190185546875,
          -1680.1119384765625,
          -1869.9610595703125,
          -1795.9677734375,
          -1685.8834228515625,
          -1917.5780029296875,
          -1645.4234619140625,
          -1753.9107666015625,
          -1762.7047119140625,
          -1707.450439453125,
          -1891.2174072265625,
          -1752.2430419921875,
          -1791.7373046875,
          -1729.47607421875,
          -1728.960693359375,
          -1822.7374267578125,
          -1717.61865234375,
          -1784.87646484375,
          -1696.2816162109375,
          -1705.0814208984375,
          -1846.88427734375,
          -1682.9580078125,
          -1790.4473876953125,
          -1730.953369140625,
          -1726.594482421875,
          -1913.2703857421875,
          -1719.041259765625,
          -1828.270751953125,
          -1697.757080078125,
          -1702.7115478515625,
          -1886.9180908203125,
          -1684.38427734375,
          -1866.092041015625,
          -1732.4306640625,
          -1678.7646484375,
          -1868.928955078125,
          -1649.7005615234375,
          -1782.2939453125,
          -1767.140380859375,
          -1700.3421630859375,
          -1893.1806640625,
          -1756.509033203125,
          -1787.8662109375,
          -1733.906982421875,
          -1721.861083984375,
          -1858.4783935546875,
          -1721.8873291015625,
          -1825.6917724609375,
          -1700.7060546875,
          -1743.3231201171875,
          -1882.616943359375,
          -1687.234130859375,
          -1863.5125732421875,
          -1735.3824462890625,
          -1674.0174560546875,
          -1864.61572265625,
          -1652.5550537109375,
          -1779.7135009765625,
          -1770.0968017578125,
          -1695.602294921875,
          -1838.272705078125,
          -1688.6595458984375,
          -1785.2864990234375,
          -1736.8597412109375,
          -1717.1287841796875,
          -1904.656005859375,
          -1724.7315673828125,
          -1823.111328125,
          -1703.6551513671875,
          -1693.2314453125,
          -1878.3167724609375,
          -1690.083984375,
          -1739.30810546875,
          -1738.3380126953125,
          -1714.7613525390625,
          -1860.3052978515625,
          -1726.1531982421875,
          -1777.13330078125,
          -1705.131591796875,
          -1736.2349853515625,
          -1876.16796875,
          -1691.5074462890625,
          -1859.643798828125,
          -1671.95751953125,
          -1728.6258544921875,
          -1900.35205078125,
          -1656.8311767578125,
          -1897.462158203125,
          -1774.5343017578125,
          -1688.490966796875,
          -1924.5880126953125,
          -1763.614501953125,
          -1736.7274169921875,
          -1741.291748046875,
          -1710.02685546875,
          -1805.5401611328125,
          -1729.000244140625,
          -1774.552001953125,
          -1708.08056640625,
          -1731.505859375,
          -1871.86962890625,
          -1694.3572998046875,
          -1857.063232421875,
          -1742.76904296875,
          -1769.3843994140625,
          -1896.0452880859375,
          -1659.6846923828125,
          -1817.951171875,
          -1709.5550537109375,
          -1683.74951171875,
          -1869.719970703125,
          -1695.7808837890625,
          -1811.0828857421875,
          -1744.2445068359375,
          -1705.2933349609375,
          -1851.6834716796875,
          -1661.1119384765625,
          -1771.9715576171875,
          -1711.0296630859375,
          -1681.3778076171875,
          -1918.124267578125,
          -1697.2025146484375,
          -1777.5457763671875,
          -1745.7218017578125,
          -1764.645263671875,
          -1891.7432861328125,
          -1733.26904296875,
          -1815.370361328125,
          -1712.504150390625,
          -1724.4136962890625,
          -1865.4234619140625,
          -1698.6287841796875,
          -1808.5029296875,
          -1679.32275390625,
          -1655.0267333984375,
          -1847.3740234375,
          -1663.9598388671875,
          -1846.3226318359375,
          -1781.92919921875,
          -1676.63525390625,
          -1913.8128662109375,
          -1700.05322265625,
          -1774.9658203125,
          -1748.6763916015625,
          -1759.90576171875,
          -1887.4383544921875,
          -1736.11328125,
          -1768.0992431640625,
          -1715.455078125,
          -1719.6845703125,
          -1861.1231689453125,
          -1701.476806640625,
          -1805.9217529296875,
          -1750.1527099609375,
          -1695.8214111328125,
          -1885.2860107421875,
          -1666.8133544921875,
          -1766.81005859375,
          -1716.932373046875,
          -1779.033447265625,
          -1858.9744873046875,
          -1702.9012451171875,
          -1849.3233642578125,
          -1683.74169921875,
          -1755.1663818359375,
          -1883.133544921875,
          -1668.23876953125,
          -1842.453125,
          -1718.406005859375,
          -1669.5216064453125,
          -1907.34912109375,
          -1633.55029296875,
          -1726.401611328125,
          -1753.1082763671875,
          -1691.0841064453125,
          -1931.61474609375,
          -1740.3819580078125,
          -1764.22802734375,
          -1719.8804931640625,
          -1774.2991943359375,
          -1854.677001953125,
          -1705.748291015625,
          -1846.7440185546875,
          -1686.6888427734375,
          -1750.424072265625,
          -1878.8314208984375,
          -1671.09228515625,
          -1839.871337890625,
          -1721.35595703125,
          -1664.7784423828125,
          -1903.0386962890625,
          -1707.1727294921875,
          -1800.7613525390625
         ],
         "yaxis": "y3"
        }
       ],
       "layout": {
        "autosize": true,
        "font": {
         "size": 10
        },
        "height": 630,
        "hovermode": "x unified",
        "legend": {
         "traceorder": "reversed",
         "y": 0.1
        },
        "margin": {
         "b": 0,
         "l": 0,
         "pad": 0,
         "r": 10,
         "t": 10
        },
        "template": {
         "data": {
          "bar": [
           {
            "error_x": {
             "color": "#2a3f5f"
            },
            "error_y": {
             "color": "#2a3f5f"
            },
            "marker": {
             "line": {
              "color": "white",
              "width": 0.5
             },
             "pattern": {
              "fillmode": "overlay",
              "size": 10,
              "solidity": 0.2
             }
            },
            "type": "bar"
           }
          ],
          "barpolar": [
           {
            "marker": {
             "line": {
              "color": "white",
              "width": 0.5
             },
             "pattern": {
              "fillmode": "overlay",
              "size": 10,
              "solidity": 0.2
             }
            },
            "type": "barpolar"
           }
          ],
          "carpet": [
           {
            "aaxis": {
             "endlinecolor": "#2a3f5f",
             "gridcolor": "#C8D4E3",
             "linecolor": "#C8D4E3",
             "minorgridcolor": "#C8D4E3",
             "startlinecolor": "#2a3f5f"
            },
            "baxis": {
             "endlinecolor": "#2a3f5f",
             "gridcolor": "#C8D4E3",
             "linecolor": "#C8D4E3",
             "minorgridcolor": "#C8D4E3",
             "startlinecolor": "#2a3f5f"
            },
            "type": "carpet"
           }
          ],
          "choropleth": [
           {
            "colorbar": {
             "outlinewidth": 0,
             "ticks": ""
            },
            "type": "choropleth"
           }
          ],
          "contour": [
           {
            "colorbar": {
             "outlinewidth": 0,
             "ticks": ""
            },
            "colorscale": [
             [
              0,
              "#0d0887"
             ],
             [
              0.1111111111111111,
              "#46039f"
             ],
             [
              0.2222222222222222,
              "#7201a8"
             ],
             [
              0.3333333333333333,
              "#9c179e"
             ],
             [
              0.4444444444444444,
              "#bd3786"
             ],
             [
              0.5555555555555556,
              "#d8576b"
             ],
             [
              0.6666666666666666,
              "#ed7953"
             ],
             [
              0.7777777777777778,
              "#fb9f3a"
             ],
             [
              0.8888888888888888,
              "#fdca26"
             ],
             [
              1,
              "#f0f921"
             ]
            ],
            "type": "contour"
           }
          ],
          "contourcarpet": [
           {
            "colorbar": {
             "outlinewidth": 0,
             "ticks": ""
            },
            "type": "contourcarpet"
           }
          ],
          "heatmap": [
           {
            "colorbar": {
             "outlinewidth": 0,
             "ticks": ""
            },
            "colorscale": [
             [
              0,
              "#0d0887"
             ],
             [
              0.1111111111111111,
              "#46039f"
             ],
             [
              0.2222222222222222,
              "#7201a8"
             ],
             [
              0.3333333333333333,
              "#9c179e"
             ],
             [
              0.4444444444444444,
              "#bd3786"
             ],
             [
              0.5555555555555556,
              "#d8576b"
             ],
             [
              0.6666666666666666,
              "#ed7953"
             ],
             [
              0.7777777777777778,
              "#fb9f3a"
             ],
             [
              0.8888888888888888,
              "#fdca26"
             ],
             [
              1,
              "#f0f921"
             ]
            ],
            "type": "heatmap"
           }
          ],
          "heatmapgl": [
           {
            "colorbar": {
             "outlinewidth": 0,
             "ticks": ""
            },
            "colorscale": [
             [
              0,
              "#0d0887"
             ],
             [
              0.1111111111111111,
              "#46039f"
             ],
             [
              0.2222222222222222,
              "#7201a8"
             ],
             [
              0.3333333333333333,
              "#9c179e"
             ],
             [
              0.4444444444444444,
              "#bd3786"
             ],
             [
              0.5555555555555556,
              "#d8576b"
             ],
             [
              0.6666666666666666,
              "#ed7953"
             ],
             [
              0.7777777777777778,
              "#fb9f3a"
             ],
             [
              0.8888888888888888,
              "#fdca26"
             ],
             [
              1,
              "#f0f921"
             ]
            ],
            "type": "heatmapgl"
           }
          ],
          "histogram": [
           {
            "marker": {
             "pattern": {
              "fillmode": "overlay",
              "size": 10,
              "solidity": 0.2
             }
            },
            "type": "histogram"
           }
          ],
          "histogram2d": [
           {
            "colorbar": {
             "outlinewidth": 0,
             "ticks": ""
            },
            "colorscale": [
             [
              0,
              "#0d0887"
             ],
             [
              0.1111111111111111,
              "#46039f"
             ],
             [
              0.2222222222222222,
              "#7201a8"
             ],
             [
              0.3333333333333333,
              "#9c179e"
             ],
             [
              0.4444444444444444,
              "#bd3786"
             ],
             [
              0.5555555555555556,
              "#d8576b"
             ],
             [
              0.6666666666666666,
              "#ed7953"
             ],
             [
              0.7777777777777778,
              "#fb9f3a"
             ],
             [
              0.8888888888888888,
              "#fdca26"
             ],
             [
              1,
              "#f0f921"
             ]
            ],
            "type": "histogram2d"
           }
          ],
          "histogram2dcontour": [
           {
            "colorbar": {
             "outlinewidth": 0,
             "ticks": ""
            },
            "colorscale": [
             [
              0,
              "#0d0887"
             ],
             [
              0.1111111111111111,
              "#46039f"
             ],
             [
              0.2222222222222222,
              "#7201a8"
             ],
             [
              0.3333333333333333,
              "#9c179e"
             ],
             [
              0.4444444444444444,
              "#bd3786"
             ],
             [
              0.5555555555555556,
              "#d8576b"
             ],
             [
              0.6666666666666666,
              "#ed7953"
             ],
             [
              0.7777777777777778,
              "#fb9f3a"
             ],
             [
              0.8888888888888888,
              "#fdca26"
             ],
             [
              1,
              "#f0f921"
             ]
            ],
            "type": "histogram2dcontour"
           }
          ],
          "mesh3d": [
           {
            "colorbar": {
             "outlinewidth": 0,
             "ticks": ""
            },
            "type": "mesh3d"
           }
          ],
          "parcoords": [
           {
            "line": {
             "colorbar": {
              "outlinewidth": 0,
              "ticks": ""
             }
            },
            "type": "parcoords"
           }
          ],
          "pie": [
           {
            "automargin": true,
            "type": "pie"
           }
          ],
          "scatter": [
           {
            "fillpattern": {
             "fillmode": "overlay",
             "size": 10,
             "solidity": 0.2
            },
            "type": "scatter"
           }
          ],
          "scatter3d": [
           {
            "line": {
             "colorbar": {
              "outlinewidth": 0,
              "ticks": ""
             }
            },
            "marker": {
             "colorbar": {
              "outlinewidth": 0,
              "ticks": ""
             }
            },
            "type": "scatter3d"
           }
          ],
          "scattercarpet": [
           {
            "marker": {
             "colorbar": {
              "outlinewidth": 0,
              "ticks": ""
             }
            },
            "type": "scattercarpet"
           }
          ],
          "scattergeo": [
           {
            "marker": {
             "colorbar": {
              "outlinewidth": 0,
              "ticks": ""
             }
            },
            "type": "scattergeo"
           }
          ],
          "scattergl": [
           {
            "marker": {
             "colorbar": {
              "outlinewidth": 0,
              "ticks": ""
             }
            },
            "type": "scattergl"
           }
          ],
          "scattermapbox": [
           {
            "marker": {
             "colorbar": {
              "outlinewidth": 0,
              "ticks": ""
             }
            },
            "type": "scattermapbox"
           }
          ],
          "scatterpolar": [
           {
            "marker": {
             "colorbar": {
              "outlinewidth": 0,
              "ticks": ""
             }
            },
            "type": "scatterpolar"
           }
          ],
          "scatterpolargl": [
           {
            "marker": {
             "colorbar": {
              "outlinewidth": 0,
              "ticks": ""
             }
            },
            "type": "scatterpolargl"
           }
          ],
          "scatterternary": [
           {
            "marker": {
             "colorbar": {
              "outlinewidth": 0,
              "ticks": ""
             }
            },
            "type": "scatterternary"
           }
          ],
          "surface": [
           {
            "colorbar": {
             "outlinewidth": 0,
             "ticks": ""
            },
            "colorscale": [
             [
              0,
              "#0d0887"
             ],
             [
              0.1111111111111111,
              "#46039f"
             ],
             [
              0.2222222222222222,
              "#7201a8"
             ],
             [
              0.3333333333333333,
              "#9c179e"
             ],
             [
              0.4444444444444444,
              "#bd3786"
             ],
             [
              0.5555555555555556,
              "#d8576b"
             ],
             [
              0.6666666666666666,
              "#ed7953"
             ],
             [
              0.7777777777777778,
              "#fb9f3a"
             ],
             [
              0.8888888888888888,
              "#fdca26"
             ],
             [
              1,
              "#f0f921"
             ]
            ],
            "type": "surface"
           }
          ],
          "table": [
           {
            "cells": {
             "fill": {
              "color": "#EBF0F8"
             },
             "line": {
              "color": "white"
             }
            },
            "header": {
             "fill": {
              "color": "#C8D4E3"
             },
             "line": {
              "color": "white"
             }
            },
            "type": "table"
           }
          ]
         },
         "layout": {
          "annotationdefaults": {
           "arrowcolor": "#2a3f5f",
           "arrowhead": 0,
           "arrowwidth": 1
          },
          "autotypenumbers": "strict",
          "coloraxis": {
           "colorbar": {
            "outlinewidth": 0,
            "ticks": ""
           }
          },
          "colorscale": {
           "diverging": [
            [
             0,
             "#8e0152"
            ],
            [
             0.1,
             "#c51b7d"
            ],
            [
             0.2,
             "#de77ae"
            ],
            [
             0.3,
             "#f1b6da"
            ],
            [
             0.4,
             "#fde0ef"
            ],
            [
             0.5,
             "#f7f7f7"
            ],
            [
             0.6,
             "#e6f5d0"
            ],
            [
             0.7,
             "#b8e186"
            ],
            [
             0.8,
             "#7fbc41"
            ],
            [
             0.9,
             "#4d9221"
            ],
            [
             1,
             "#276419"
            ]
           ],
           "sequential": [
            [
             0,
             "#0d0887"
            ],
            [
             0.1111111111111111,
             "#46039f"
            ],
            [
             0.2222222222222222,
             "#7201a8"
            ],
            [
             0.3333333333333333,
             "#9c179e"
            ],
            [
             0.4444444444444444,
             "#bd3786"
            ],
            [
             0.5555555555555556,
             "#d8576b"
            ],
            [
             0.6666666666666666,
             "#ed7953"
            ],
            [
             0.7777777777777778,
             "#fb9f3a"
            ],
            [
             0.8888888888888888,
             "#fdca26"
            ],
            [
             1,
             "#f0f921"
            ]
           ],
           "sequentialminus": [
            [
             0,
             "#0d0887"
            ],
            [
             0.1111111111111111,
             "#46039f"
            ],
            [
             0.2222222222222222,
             "#7201a8"
            ],
            [
             0.3333333333333333,
             "#9c179e"
            ],
            [
             0.4444444444444444,
             "#bd3786"
            ],
            [
             0.5555555555555556,
             "#d8576b"
            ],
            [
             0.6666666666666666,
             "#ed7953"
            ],
            [
             0.7777777777777778,
             "#fb9f3a"
            ],
            [
             0.8888888888888888,
             "#fdca26"
            ],
            [
             1,
             "#f0f921"
            ]
           ]
          },
          "colorway": [
           "#636efa",
           "#EF553B",
           "#00cc96",
           "#ab63fa",
           "#FFA15A",
           "#19d3f3",
           "#FF6692",
           "#B6E880",
           "#FF97FF",
           "#FECB52"
          ],
          "font": {
           "color": "#2a3f5f"
          },
          "geo": {
           "bgcolor": "white",
           "lakecolor": "white",
           "landcolor": "white",
           "showlakes": true,
           "showland": true,
           "subunitcolor": "#C8D4E3"
          },
          "hoverlabel": {
           "align": "left"
          },
          "hovermode": "closest",
          "mapbox": {
           "style": "light"
          },
          "paper_bgcolor": "white",
          "plot_bgcolor": "white",
          "polar": {
           "angularaxis": {
            "gridcolor": "#EBF0F8",
            "linecolor": "#EBF0F8",
            "ticks": ""
           },
           "bgcolor": "white",
           "radialaxis": {
            "gridcolor": "#EBF0F8",
            "linecolor": "#EBF0F8",
            "ticks": ""
           }
          },
          "scene": {
           "xaxis": {
            "backgroundcolor": "white",
            "gridcolor": "#DFE8F3",
            "gridwidth": 2,
            "linecolor": "#EBF0F8",
            "showbackground": true,
            "ticks": "",
            "zerolinecolor": "#EBF0F8"
           },
           "yaxis": {
            "backgroundcolor": "white",
            "gridcolor": "#DFE8F3",
            "gridwidth": 2,
            "linecolor": "#EBF0F8",
            "showbackground": true,
            "ticks": "",
            "zerolinecolor": "#EBF0F8"
           },
           "zaxis": {
            "backgroundcolor": "white",
            "gridcolor": "#DFE8F3",
            "gridwidth": 2,
            "linecolor": "#EBF0F8",
            "showbackground": true,
            "ticks": "",
            "zerolinecolor": "#EBF0F8"
           }
          },
          "shapedefaults": {
           "line": {
            "color": "#2a3f5f"
           }
          },
          "ternary": {
           "aaxis": {
            "gridcolor": "#DFE8F3",
            "linecolor": "#A2B1C6",
            "ticks": ""
           },
           "baxis": {
            "gridcolor": "#DFE8F3",
            "linecolor": "#A2B1C6",
            "ticks": ""
           },
           "bgcolor": "white",
           "caxis": {
            "gridcolor": "#DFE8F3",
            "linecolor": "#A2B1C6",
            "ticks": ""
           }
          },
          "title": {
           "x": 0.05
          },
          "xaxis": {
           "automargin": true,
           "gridcolor": "#EBF0F8",
           "linecolor": "#EBF0F8",
           "ticks": "",
           "title": {
            "standoff": 15
           },
           "zerolinecolor": "#EBF0F8",
           "zerolinewidth": 2
          },
          "yaxis": {
           "automargin": true,
           "gridcolor": "#EBF0F8",
           "linecolor": "#EBF0F8",
           "ticks": "",
           "title": {
            "standoff": 15
           },
           "zerolinecolor": "#EBF0F8",
           "zerolinewidth": 2
          }
         }
        },
        "title": {
         "font": {
          "size": 12
         }
        },
        "width": 700,
        "xaxis": {
         "anchor": "y",
         "domain": [
          0,
          1
         ],
         "linewidth": 1.5,
         "mirror": true,
         "range": [
          "2024-02-22T00:00:00",
          "2025-05-28T00:00:00"
         ],
         "showline": true,
         "title": {
          "text": "ds"
         },
         "type": "date"
        },
        "xaxis2": {
         "anchor": "y2",
         "domain": [
          0,
          1
         ],
         "linewidth": 1.5,
         "mirror": true,
         "range": [
          "2024-02-22T00:00:00",
          "2025-05-28T00:00:00"
         ],
         "showline": true,
         "title": {
          "text": "ds"
         },
         "type": "date"
        },
        "xaxis3": {
         "anchor": "y3",
         "domain": [
          0,
          1
         ],
         "linewidth": 1.5,
         "mirror": true,
         "range": [
          "2024-02-22T00:00:00",
          "2025-05-28T00:00:00"
         ],
         "showline": true,
         "title": {
          "text": "ds"
         },
         "type": "date"
        },
        "yaxis": {
         "anchor": "x",
         "domain": [
          0.7333333333333333,
          1
         ],
         "linewidth": 1.5,
         "mirror": true,
         "rangemode": "normal",
         "showline": true,
         "title": {
          "text": "Trend"
         }
        },
        "yaxis2": {
         "anchor": "x2",
         "domain": [
          0.36666666666666664,
          0.6333333333333333
         ],
         "linewidth": 1.5,
         "mirror": true,
         "rangemode": "tozero",
         "showline": true,
         "title": {
          "text": "yearly seasonality"
         }
        },
        "yaxis3": {
         "anchor": "x3",
         "domain": [
          0,
          0.26666666666666666
         ],
         "linewidth": 1.5,
         "mirror": true,
         "rangemode": "tozero",
         "showline": true,
         "title": {
          "text": "weekly seasonality"
         }
        }
       }
      }
     },
     "metadata": {},
     "output_type": "display_data"
    }
   ],
   "source": [
    "model.plot_components(forecast)"
   ]
  },
  {
   "cell_type": "code",
   "execution_count": 8,
   "metadata": {},
   "outputs": [
    {
     "name": "stdout",
     "output_type": "stream",
     "text": [
      "Requirement already satisfied: torch in c:\\users\\arsen\\appdata\\local\\programs\\python\\python39\\lib\\site-packages (2.2.1)Note: you may need to restart the kernel to use updated packages.\n",
      "\n",
      "Requirement already satisfied: filelock in c:\\users\\arsen\\appdata\\local\\programs\\python\\python39\\lib\\site-packages (from torch) (3.13.1)\n",
      "Requirement already satisfied: typing-extensions>=4.8.0 in c:\\users\\arsen\\appdata\\roaming\\python\\python39\\site-packages (from torch) (4.10.0)\n",
      "Requirement already satisfied: sympy in c:\\users\\arsen\\appdata\\local\\programs\\python\\python39\\lib\\site-packages (from torch) (1.12)\n",
      "Requirement already satisfied: networkx in c:\\users\\arsen\\appdata\\local\\programs\\python\\python39\\lib\\site-packages (from torch) (3.2.1)\n",
      "Requirement already satisfied: jinja2 in c:\\users\\arsen\\appdata\\local\\programs\\python\\python39\\lib\\site-packages (from torch) (3.1.3)\n",
      "Requirement already satisfied: fsspec in c:\\users\\arsen\\appdata\\local\\programs\\python\\python39\\lib\\site-packages (from torch) (2024.2.0)\n",
      "Requirement already satisfied: MarkupSafe>=2.0 in c:\\users\\arsen\\appdata\\local\\programs\\python\\python39\\lib\\site-packages (from jinja2->torch) (2.1.5)\n",
      "Requirement already satisfied: mpmath>=0.19 in c:\\users\\arsen\\appdata\\local\\programs\\python\\python39\\lib\\site-packages (from sympy->torch) (1.3.0)\n"
     ]
    }
   ],
   "source": [
    "%pip install torch"
   ]
  },
  {
   "cell_type": "code",
   "execution_count": 14,
   "metadata": {},
   "outputs": [
    {
     "name": "stdout",
     "output_type": "stream",
     "text": [
      "Модель успешно сохранена как SmartForecastModel.pth\n"
     ]
    }
   ],
   "source": [
    "from torch import torch\n",
    "filename = \"SmartForecastModel.pth\"\n",
    "\n",
    "# Сохраните модель\n",
    "torch.save(model.state_dict(), 'SmartForecastModel.pth')\n",
    "\n",
    "print(f\"Модель успешно сохранена как {filename}\")"
   ]
  },
  {
   "cell_type": "code",
   "execution_count": null,
   "metadata": {},
   "outputs": [],
   "source": []
  }
 ],
 "metadata": {
  "kernelspec": {
   "display_name": "Python 3",
   "language": "python",
   "name": "python3"
  },
  "language_info": {
   "codemirror_mode": {
    "name": "ipython",
    "version": 3
   },
   "file_extension": ".py",
   "mimetype": "text/x-python",
   "name": "python",
   "nbconvert_exporter": "python",
   "pygments_lexer": "ipython3",
   "version": "3.9.13"
  }
 },
 "nbformat": 4,
 "nbformat_minor": 2
}
